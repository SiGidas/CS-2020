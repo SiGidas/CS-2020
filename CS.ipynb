{
 "cells": [
  {
   "cell_type": "code",
   "execution_count": 1,
   "metadata": {},
   "outputs": [],
   "source": [
    "import pandas as pd\n",
    "import numpy as np\n",
    "\n",
    "%matplotlib inline \n",
    "# отображает графику в юпитере\n",
    "%config IPCompleter.greedy=True \n",
    "# должно ускорять работу таба\n",
    "\n",
    "import matplotlib.pyplot as plt\n",
    "import seaborn as sns\n",
    "\n",
    "from catboost import CatBoostRegressor, Pool\n",
    "from sklearn.neural_network import MLPRegressor, MLPClassifier\n",
    "from sklearn.linear_model import LogisticRegression\n",
    "\n",
    "from sklearn.metrics import mean_absolute_error, roc_curve, roc_auc_score"
   ]
  },
  {
   "cell_type": "code",
   "execution_count": 2,
   "metadata": {},
   "outputs": [],
   "source": [
    "train = pd.read_csv('csgo.csv')\n",
    "#test = pd.read_csv('test.csv')"
   ]
  },
  {
   "cell_type": "code",
   "execution_count": 6,
   "metadata": {
    "scrolled": true
   },
   "outputs": [
    {
     "data": {
      "text/html": [
       "<div>\n",
       "<style scoped>\n",
       "    .dataframe tbody tr th:only-of-type {\n",
       "        vertical-align: middle;\n",
       "    }\n",
       "\n",
       "    .dataframe tbody tr th {\n",
       "        vertical-align: top;\n",
       "    }\n",
       "\n",
       "    .dataframe thead th {\n",
       "        text-align: right;\n",
       "    }\n",
       "</style>\n",
       "<table border=\"1\" class=\"dataframe\">\n",
       "  <thead>\n",
       "    <tr style=\"text-align: right;\">\n",
       "      <th></th>\n",
       "      <th>День</th>\n",
       "      <th>Месяц</th>\n",
       "      <th>Пик</th>\n",
       "      <th>Прошло_дней_пр</th>\n",
       "      <th>Пик.1</th>\n",
       "      <th>Счет_1_пр</th>\n",
       "      <th>Счет_2_пр</th>\n",
       "      <th>Прошло_дней_ка</th>\n",
       "      <th>Пик.2</th>\n",
       "      <th>Счет_1_ка</th>\n",
       "      <th>...</th>\n",
       "      <th>Соперник_ка_Wisla_Krakow</th>\n",
       "      <th>Соперник_ка_Wizards</th>\n",
       "      <th>Соперник_ка_Wygers</th>\n",
       "      <th>Соперник_ка_bezotca</th>\n",
       "      <th>Соперник_ка_c0ntact</th>\n",
       "      <th>Соперник_ка_ex-SMASH</th>\n",
       "      <th>Соперник_ка_forZe</th>\n",
       "      <th>Соперник_ка_lvlUP</th>\n",
       "      <th>Соперник_ка_selectah</th>\n",
       "      <th>Соперник_ка_x6tence</th>\n",
       "    </tr>\n",
       "  </thead>\n",
       "  <tbody>\n",
       "    <tr>\n",
       "      <td>8</td>\n",
       "      <td>9</td>\n",
       "      <td>9</td>\n",
       "      <td>1</td>\n",
       "      <td>0</td>\n",
       "      <td>0</td>\n",
       "      <td>16</td>\n",
       "      <td>3</td>\n",
       "      <td>12</td>\n",
       "      <td>2</td>\n",
       "      <td>16</td>\n",
       "      <td>...</td>\n",
       "      <td>0</td>\n",
       "      <td>0</td>\n",
       "      <td>0</td>\n",
       "      <td>0</td>\n",
       "      <td>1</td>\n",
       "      <td>0</td>\n",
       "      <td>0</td>\n",
       "      <td>0</td>\n",
       "      <td>0</td>\n",
       "      <td>0</td>\n",
       "    </tr>\n",
       "    <tr>\n",
       "      <td>9</td>\n",
       "      <td>9</td>\n",
       "      <td>9</td>\n",
       "      <td>0</td>\n",
       "      <td>0</td>\n",
       "      <td>2</td>\n",
       "      <td>12</td>\n",
       "      <td>16</td>\n",
       "      <td>12</td>\n",
       "      <td>2</td>\n",
       "      <td>16</td>\n",
       "      <td>...</td>\n",
       "      <td>0</td>\n",
       "      <td>0</td>\n",
       "      <td>0</td>\n",
       "      <td>0</td>\n",
       "      <td>0</td>\n",
       "      <td>0</td>\n",
       "      <td>0</td>\n",
       "      <td>0</td>\n",
       "      <td>0</td>\n",
       "      <td>0</td>\n",
       "    </tr>\n",
       "    <tr>\n",
       "      <td>10</td>\n",
       "      <td>9</td>\n",
       "      <td>9</td>\n",
       "      <td>2</td>\n",
       "      <td>1</td>\n",
       "      <td>0</td>\n",
       "      <td>16</td>\n",
       "      <td>13</td>\n",
       "      <td>1</td>\n",
       "      <td>2</td>\n",
       "      <td>16</td>\n",
       "      <td>...</td>\n",
       "      <td>0</td>\n",
       "      <td>0</td>\n",
       "      <td>0</td>\n",
       "      <td>0</td>\n",
       "      <td>0</td>\n",
       "      <td>0</td>\n",
       "      <td>0</td>\n",
       "      <td>0</td>\n",
       "      <td>0</td>\n",
       "      <td>0</td>\n",
       "    </tr>\n",
       "    <tr>\n",
       "      <td>11</td>\n",
       "      <td>8</td>\n",
       "      <td>9</td>\n",
       "      <td>0</td>\n",
       "      <td>0</td>\n",
       "      <td>2</td>\n",
       "      <td>16</td>\n",
       "      <td>10</td>\n",
       "      <td>11</td>\n",
       "      <td>0</td>\n",
       "      <td>16</td>\n",
       "      <td>...</td>\n",
       "      <td>0</td>\n",
       "      <td>0</td>\n",
       "      <td>0</td>\n",
       "      <td>0</td>\n",
       "      <td>1</td>\n",
       "      <td>0</td>\n",
       "      <td>0</td>\n",
       "      <td>0</td>\n",
       "      <td>0</td>\n",
       "      <td>0</td>\n",
       "    </tr>\n",
       "    <tr>\n",
       "      <td>12</td>\n",
       "      <td>8</td>\n",
       "      <td>9</td>\n",
       "      <td>2</td>\n",
       "      <td>1</td>\n",
       "      <td>0</td>\n",
       "      <td>16</td>\n",
       "      <td>5</td>\n",
       "      <td>1</td>\n",
       "      <td>2</td>\n",
       "      <td>16</td>\n",
       "      <td>...</td>\n",
       "      <td>0</td>\n",
       "      <td>0</td>\n",
       "      <td>0</td>\n",
       "      <td>0</td>\n",
       "      <td>0</td>\n",
       "      <td>0</td>\n",
       "      <td>0</td>\n",
       "      <td>0</td>\n",
       "      <td>0</td>\n",
       "      <td>0</td>\n",
       "    </tr>\n",
       "    <tr>\n",
       "      <td>...</td>\n",
       "      <td>...</td>\n",
       "      <td>...</td>\n",
       "      <td>...</td>\n",
       "      <td>...</td>\n",
       "      <td>...</td>\n",
       "      <td>...</td>\n",
       "      <td>...</td>\n",
       "      <td>...</td>\n",
       "      <td>...</td>\n",
       "      <td>...</td>\n",
       "      <td>...</td>\n",
       "      <td>...</td>\n",
       "      <td>...</td>\n",
       "      <td>...</td>\n",
       "      <td>...</td>\n",
       "      <td>...</td>\n",
       "      <td>...</td>\n",
       "      <td>...</td>\n",
       "      <td>...</td>\n",
       "      <td>...</td>\n",
       "      <td>...</td>\n",
       "    </tr>\n",
       "    <tr>\n",
       "      <td>445</td>\n",
       "      <td>12</td>\n",
       "      <td>8</td>\n",
       "      <td>0</td>\n",
       "      <td>0</td>\n",
       "      <td>2</td>\n",
       "      <td>14</td>\n",
       "      <td>16</td>\n",
       "      <td>3</td>\n",
       "      <td>2</td>\n",
       "      <td>11</td>\n",
       "      <td>...</td>\n",
       "      <td>0</td>\n",
       "      <td>0</td>\n",
       "      <td>0</td>\n",
       "      <td>0</td>\n",
       "      <td>0</td>\n",
       "      <td>0</td>\n",
       "      <td>0</td>\n",
       "      <td>0</td>\n",
       "      <td>0</td>\n",
       "      <td>0</td>\n",
       "    </tr>\n",
       "    <tr>\n",
       "      <td>446</td>\n",
       "      <td>12</td>\n",
       "      <td>8</td>\n",
       "      <td>2</td>\n",
       "      <td>3</td>\n",
       "      <td>1</td>\n",
       "      <td>16</td>\n",
       "      <td>12</td>\n",
       "      <td>3</td>\n",
       "      <td>1</td>\n",
       "      <td>16</td>\n",
       "      <td>...</td>\n",
       "      <td>0</td>\n",
       "      <td>0</td>\n",
       "      <td>0</td>\n",
       "      <td>0</td>\n",
       "      <td>0</td>\n",
       "      <td>0</td>\n",
       "      <td>0</td>\n",
       "      <td>0</td>\n",
       "      <td>0</td>\n",
       "      <td>0</td>\n",
       "    </tr>\n",
       "    <tr>\n",
       "      <td>447</td>\n",
       "      <td>9</td>\n",
       "      <td>8</td>\n",
       "      <td>1</td>\n",
       "      <td>0</td>\n",
       "      <td>2</td>\n",
       "      <td>11</td>\n",
       "      <td>16</td>\n",
       "      <td>37</td>\n",
       "      <td>0</td>\n",
       "      <td>22</td>\n",
       "      <td>...</td>\n",
       "      <td>0</td>\n",
       "      <td>0</td>\n",
       "      <td>0</td>\n",
       "      <td>0</td>\n",
       "      <td>0</td>\n",
       "      <td>0</td>\n",
       "      <td>0</td>\n",
       "      <td>0</td>\n",
       "      <td>0</td>\n",
       "      <td>0</td>\n",
       "    </tr>\n",
       "    <tr>\n",
       "      <td>448</td>\n",
       "      <td>9</td>\n",
       "      <td>8</td>\n",
       "      <td>2</td>\n",
       "      <td>0</td>\n",
       "      <td>0</td>\n",
       "      <td>16</td>\n",
       "      <td>11</td>\n",
       "      <td>36</td>\n",
       "      <td>1</td>\n",
       "      <td>5</td>\n",
       "      <td>...</td>\n",
       "      <td>0</td>\n",
       "      <td>0</td>\n",
       "      <td>0</td>\n",
       "      <td>0</td>\n",
       "      <td>0</td>\n",
       "      <td>0</td>\n",
       "      <td>0</td>\n",
       "      <td>0</td>\n",
       "      <td>0</td>\n",
       "      <td>0</td>\n",
       "    </tr>\n",
       "    <tr>\n",
       "      <td>449</td>\n",
       "      <td>9</td>\n",
       "      <td>8</td>\n",
       "      <td>0</td>\n",
       "      <td>36</td>\n",
       "      <td>1</td>\n",
       "      <td>5</td>\n",
       "      <td>16</td>\n",
       "      <td>36</td>\n",
       "      <td>0</td>\n",
       "      <td>7</td>\n",
       "      <td>...</td>\n",
       "      <td>0</td>\n",
       "      <td>0</td>\n",
       "      <td>0</td>\n",
       "      <td>0</td>\n",
       "      <td>0</td>\n",
       "      <td>0</td>\n",
       "      <td>0</td>\n",
       "      <td>0</td>\n",
       "      <td>0</td>\n",
       "      <td>0</td>\n",
       "    </tr>\n",
       "  </tbody>\n",
       "</table>\n",
       "<p>442 rows × 236 columns</p>\n",
       "</div>"
      ],
      "text/plain": [
       "     День  Месяц  Пик  Прошло_дней_пр  Пик.1  Счет_1_пр  Счет_2_пр  \\\n",
       "8       9      9    1               0      0         16          3   \n",
       "9       9      9    0               0      2         12         16   \n",
       "10      9      9    2               1      0         16         13   \n",
       "11      8      9    0               0      2         16         10   \n",
       "12      8      9    2               1      0         16          5   \n",
       "..    ...    ...  ...             ...    ...        ...        ...   \n",
       "445    12      8    0               0      2         14         16   \n",
       "446    12      8    2               3      1         16         12   \n",
       "447     9      8    1               0      2         11         16   \n",
       "448     9      8    2               0      0         16         11   \n",
       "449     9      8    0              36      1          5         16   \n",
       "\n",
       "     Прошло_дней_ка  Пик.2  Счет_1_ка  ...  Соперник_ка_Wisla_Krakow  \\\n",
       "8                12      2         16  ...                         0   \n",
       "9                12      2         16  ...                         0   \n",
       "10                1      2         16  ...                         0   \n",
       "11               11      0         16  ...                         0   \n",
       "12                1      2         16  ...                         0   \n",
       "..              ...    ...        ...  ...                       ...   \n",
       "445               3      2         11  ...                         0   \n",
       "446               3      1         16  ...                         0   \n",
       "447              37      0         22  ...                         0   \n",
       "448              36      1          5  ...                         0   \n",
       "449              36      0          7  ...                         0   \n",
       "\n",
       "     Соперник_ка_Wizards  Соперник_ка_Wygers  Соперник_ка_bezotca  \\\n",
       "8                      0                   0                    0   \n",
       "9                      0                   0                    0   \n",
       "10                     0                   0                    0   \n",
       "11                     0                   0                    0   \n",
       "12                     0                   0                    0   \n",
       "..                   ...                 ...                  ...   \n",
       "445                    0                   0                    0   \n",
       "446                    0                   0                    0   \n",
       "447                    0                   0                    0   \n",
       "448                    0                   0                    0   \n",
       "449                    0                   0                    0   \n",
       "\n",
       "     Соперник_ка_c0ntact  Соперник_ка_ex-SMASH  Соперник_ка_forZe  \\\n",
       "8                      1                     0                  0   \n",
       "9                      0                     0                  0   \n",
       "10                     0                     0                  0   \n",
       "11                     1                     0                  0   \n",
       "12                     0                     0                  0   \n",
       "..                   ...                   ...                ...   \n",
       "445                    0                     0                  0   \n",
       "446                    0                     0                  0   \n",
       "447                    0                     0                  0   \n",
       "448                    0                     0                  0   \n",
       "449                    0                     0                  0   \n",
       "\n",
       "     Соперник_ка_lvlUP  Соперник_ка_selectah  Соперник_ка_x6tence  \n",
       "8                    0                     0                    0  \n",
       "9                    0                     0                    0  \n",
       "10                   0                     0                    0  \n",
       "11                   0                     0                    0  \n",
       "12                   0                     0                    0  \n",
       "..                 ...                   ...                  ...  \n",
       "445                  0                     0                    0  \n",
       "446                  0                     0                    0  \n",
       "447                  0                     0                    0  \n",
       "448                  0                     0                    0  \n",
       "449                  0                     0                    0  \n",
       "\n",
       "[442 rows x 236 columns]"
      ]
     },
     "execution_count": 6,
     "metadata": {},
     "output_type": "execute_result"
    }
   ],
   "source": [
    "train"
   ]
  },
  {
   "cell_type": "code",
   "execution_count": 4,
   "metadata": {},
   "outputs": [
    {
     "name": "stdout",
     "output_type": "stream",
     "text": [
      "<class 'pandas.core.frame.DataFrame'>\n",
      "RangeIndex: 439 entries, 0 to 438\n",
      "Data columns (total 20 columns):\n",
      "День              439 non-null int64\n",
      "Месяц             439 non-null int64\n",
      "Команда           439 non-null object\n",
      "Соперник          439 non-null object\n",
      "Карта             439 non-null object\n",
      "Пик               439 non-null int64\n",
      "Прошло_дней_пр    439 non-null int64\n",
      "Соперник_пр       439 non-null object\n",
      "Карта_пр          439 non-null object\n",
      "Пик.1             439 non-null int64\n",
      "Счет_1_пр         439 non-null int64\n",
      "Счет_2_пр         439 non-null int64\n",
      "Прошло_дней_ка    439 non-null int64\n",
      "Соперник_ка       439 non-null object\n",
      "Пик.2             439 non-null int64\n",
      "Счет_1_ка         439 non-null int64\n",
      "Счет_2_ка         439 non-null int64\n",
      "Счет_1            439 non-null int64\n",
      "Счет_2            439 non-null int64\n",
      "Победа            439 non-null int64\n",
      "dtypes: int64(14), object(6)\n",
      "memory usage: 68.7+ KB\n"
     ]
    }
   ],
   "source": [
    "train.info()"
   ]
  },
  {
   "cell_type": "code",
   "execution_count": 6,
   "metadata": {},
   "outputs": [
    {
     "data": {
      "text/html": [
       "<div>\n",
       "<style scoped>\n",
       "    .dataframe tbody tr th:only-of-type {\n",
       "        vertical-align: middle;\n",
       "    }\n",
       "\n",
       "    .dataframe tbody tr th {\n",
       "        vertical-align: top;\n",
       "    }\n",
       "\n",
       "    .dataframe thead th {\n",
       "        text-align: right;\n",
       "    }\n",
       "</style>\n",
       "<table border=\"1\" class=\"dataframe\">\n",
       "  <thead>\n",
       "    <tr style=\"text-align: right;\">\n",
       "      <th></th>\n",
       "      <th>День</th>\n",
       "      <th>Месяц</th>\n",
       "      <th>Пик</th>\n",
       "      <th>Прошло_дней_пр</th>\n",
       "      <th>Пик.1</th>\n",
       "      <th>Счет_1_пр</th>\n",
       "      <th>Счет_2_пр</th>\n",
       "      <th>Прошло_дней_ка</th>\n",
       "      <th>Пик.2</th>\n",
       "      <th>Счет_1_ка</th>\n",
       "      <th>Счет_2_ка</th>\n",
       "      <th>Счет_1</th>\n",
       "      <th>Счет_2</th>\n",
       "      <th>Победа</th>\n",
       "    </tr>\n",
       "  </thead>\n",
       "  <tbody>\n",
       "    <tr>\n",
       "      <td>count</td>\n",
       "      <td>429.000000</td>\n",
       "      <td>429.000000</td>\n",
       "      <td>429.000000</td>\n",
       "      <td>429.000000</td>\n",
       "      <td>429.000000</td>\n",
       "      <td>429.000000</td>\n",
       "      <td>429.000000</td>\n",
       "      <td>429.000000</td>\n",
       "      <td>429.000000</td>\n",
       "      <td>429.000000</td>\n",
       "      <td>429.000000</td>\n",
       "      <td>429.000000</td>\n",
       "      <td>429.000000</td>\n",
       "      <td>429.000000</td>\n",
       "    </tr>\n",
       "    <tr>\n",
       "      <td>mean</td>\n",
       "      <td>15.566434</td>\n",
       "      <td>7.988345</td>\n",
       "      <td>1.000000</td>\n",
       "      <td>1.212121</td>\n",
       "      <td>1.002331</td>\n",
       "      <td>14.303030</td>\n",
       "      <td>13.363636</td>\n",
       "      <td>7.445221</td>\n",
       "      <td>0.988345</td>\n",
       "      <td>14.051282</td>\n",
       "      <td>13.142191</td>\n",
       "      <td>14.055944</td>\n",
       "      <td>13.365967</td>\n",
       "      <td>0.547786</td>\n",
       "    </tr>\n",
       "    <tr>\n",
       "      <td>std</td>\n",
       "      <td>6.457871</td>\n",
       "      <td>0.107453</td>\n",
       "      <td>0.864675</td>\n",
       "      <td>4.743342</td>\n",
       "      <td>0.860610</td>\n",
       "      <td>6.397759</td>\n",
       "      <td>4.420976</td>\n",
       "      <td>12.310808</td>\n",
       "      <td>0.865947</td>\n",
       "      <td>4.025291</td>\n",
       "      <td>4.455472</td>\n",
       "      <td>4.055300</td>\n",
       "      <td>4.365204</td>\n",
       "      <td>0.498292</td>\n",
       "    </tr>\n",
       "    <tr>\n",
       "      <td>min</td>\n",
       "      <td>2.000000</td>\n",
       "      <td>7.000000</td>\n",
       "      <td>0.000000</td>\n",
       "      <td>0.000000</td>\n",
       "      <td>0.000000</td>\n",
       "      <td>1.000000</td>\n",
       "      <td>1.000000</td>\n",
       "      <td>0.000000</td>\n",
       "      <td>0.000000</td>\n",
       "      <td>2.000000</td>\n",
       "      <td>1.000000</td>\n",
       "      <td>1.000000</td>\n",
       "      <td>1.000000</td>\n",
       "      <td>0.000000</td>\n",
       "    </tr>\n",
       "    <tr>\n",
       "      <td>25%</td>\n",
       "      <td>10.000000</td>\n",
       "      <td>8.000000</td>\n",
       "      <td>0.000000</td>\n",
       "      <td>0.000000</td>\n",
       "      <td>0.000000</td>\n",
       "      <td>12.000000</td>\n",
       "      <td>10.000000</td>\n",
       "      <td>1.000000</td>\n",
       "      <td>0.000000</td>\n",
       "      <td>12.000000</td>\n",
       "      <td>10.000000</td>\n",
       "      <td>12.000000</td>\n",
       "      <td>10.000000</td>\n",
       "      <td>0.000000</td>\n",
       "    </tr>\n",
       "    <tr>\n",
       "      <td>50%</td>\n",
       "      <td>16.000000</td>\n",
       "      <td>8.000000</td>\n",
       "      <td>1.000000</td>\n",
       "      <td>0.000000</td>\n",
       "      <td>1.000000</td>\n",
       "      <td>16.000000</td>\n",
       "      <td>16.000000</td>\n",
       "      <td>3.000000</td>\n",
       "      <td>1.000000</td>\n",
       "      <td>16.000000</td>\n",
       "      <td>15.000000</td>\n",
       "      <td>16.000000</td>\n",
       "      <td>16.000000</td>\n",
       "      <td>1.000000</td>\n",
       "    </tr>\n",
       "    <tr>\n",
       "      <td>75%</td>\n",
       "      <td>20.000000</td>\n",
       "      <td>8.000000</td>\n",
       "      <td>2.000000</td>\n",
       "      <td>1.000000</td>\n",
       "      <td>2.000000</td>\n",
       "      <td>16.000000</td>\n",
       "      <td>16.000000</td>\n",
       "      <td>6.000000</td>\n",
       "      <td>2.000000</td>\n",
       "      <td>16.000000</td>\n",
       "      <td>16.000000</td>\n",
       "      <td>16.000000</td>\n",
       "      <td>16.000000</td>\n",
       "      <td>1.000000</td>\n",
       "    </tr>\n",
       "    <tr>\n",
       "      <td>max</td>\n",
       "      <td>31.000000</td>\n",
       "      <td>8.000000</td>\n",
       "      <td>2.000000</td>\n",
       "      <td>44.000000</td>\n",
       "      <td>2.000000</td>\n",
       "      <td>116.000000</td>\n",
       "      <td>29.000000</td>\n",
       "      <td>68.000000</td>\n",
       "      <td>2.000000</td>\n",
       "      <td>31.000000</td>\n",
       "      <td>29.000000</td>\n",
       "      <td>31.000000</td>\n",
       "      <td>29.000000</td>\n",
       "      <td>1.000000</td>\n",
       "    </tr>\n",
       "  </tbody>\n",
       "</table>\n",
       "</div>"
      ],
      "text/plain": [
       "             День       Месяц         Пик  Прошло_дней_пр       Пик.1  \\\n",
       "count  429.000000  429.000000  429.000000      429.000000  429.000000   \n",
       "mean    15.566434    7.988345    1.000000        1.212121    1.002331   \n",
       "std      6.457871    0.107453    0.864675        4.743342    0.860610   \n",
       "min      2.000000    7.000000    0.000000        0.000000    0.000000   \n",
       "25%     10.000000    8.000000    0.000000        0.000000    0.000000   \n",
       "50%     16.000000    8.000000    1.000000        0.000000    1.000000   \n",
       "75%     20.000000    8.000000    2.000000        1.000000    2.000000   \n",
       "max     31.000000    8.000000    2.000000       44.000000    2.000000   \n",
       "\n",
       "        Счет_1_пр   Счет_2_пр  Прошло_дней_ка       Пик.2   Счет_1_ка  \\\n",
       "count  429.000000  429.000000      429.000000  429.000000  429.000000   \n",
       "mean    14.303030   13.363636        7.445221    0.988345   14.051282   \n",
       "std      6.397759    4.420976       12.310808    0.865947    4.025291   \n",
       "min      1.000000    1.000000        0.000000    0.000000    2.000000   \n",
       "25%     12.000000   10.000000        1.000000    0.000000   12.000000   \n",
       "50%     16.000000   16.000000        3.000000    1.000000   16.000000   \n",
       "75%     16.000000   16.000000        6.000000    2.000000   16.000000   \n",
       "max    116.000000   29.000000       68.000000    2.000000   31.000000   \n",
       "\n",
       "        Счет_2_ка      Счет_1      Счет_2      Победа  \n",
       "count  429.000000  429.000000  429.000000  429.000000  \n",
       "mean    13.142191   14.055944   13.365967    0.547786  \n",
       "std      4.455472    4.055300    4.365204    0.498292  \n",
       "min      1.000000    1.000000    1.000000    0.000000  \n",
       "25%     10.000000   12.000000   10.000000    0.000000  \n",
       "50%     15.000000   16.000000   16.000000    1.000000  \n",
       "75%     16.000000   16.000000   16.000000    1.000000  \n",
       "max     29.000000   31.000000   29.000000    1.000000  "
      ]
     },
     "execution_count": 6,
     "metadata": {},
     "output_type": "execute_result"
    }
   ],
   "source": [
    "train.describe()"
   ]
  },
  {
   "cell_type": "code",
   "execution_count": 5,
   "metadata": {},
   "outputs": [
    {
     "data": {
      "text/plain": [
       "1    242\n",
       "0    197\n",
       "Name: Победа, dtype: int64"
      ]
     },
     "execution_count": 5,
     "metadata": {},
     "output_type": "execute_result"
    }
   ],
   "source": [
    "train['Победа'].value_counts()"
   ]
  },
  {
   "cell_type": "code",
   "execution_count": 6,
   "metadata": {},
   "outputs": [
    {
     "data": {
      "text/plain": [
       "nuke        86\n",
       "inferno     80\n",
       "dust2       75\n",
       "overpass    55\n",
       "mirage      54\n",
       "train       54\n",
       "vertigo     35\n",
       "Name: Карта, dtype: int64"
      ]
     },
     "execution_count": 6,
     "metadata": {},
     "output_type": "execute_result"
    }
   ],
   "source": [
    "train['Карта'].value_counts()"
   ]
  },
  {
   "cell_type": "code",
   "execution_count": 7,
   "metadata": {},
   "outputs": [
    {
     "data": {
      "text/plain": [
       "forZe             26\n",
       "Team_K23          22\n",
       "AVEZ              21\n",
       "PACT              17\n",
       "Galaxy_Racer      17\n",
       "                  ..\n",
       "Nexus              2\n",
       "EndPoint           2\n",
       "Ethereal           2\n",
       "bezotca            1\n",
       "Lyngby_Vikings     1\n",
       "Name: Соперник, Length: 61, dtype: int64"
      ]
     },
     "execution_count": 7,
     "metadata": {},
     "output_type": "execute_result"
    }
   ],
   "source": [
    "train['Соперник'].value_counts()"
   ]
  },
  {
   "cell_type": "code",
   "execution_count": 10,
   "metadata": {},
   "outputs": [
    {
     "data": {
      "text/plain": [
       "16    178\n",
       "14     28\n",
       "12     27\n",
       "9      24\n",
       "13     23\n",
       "19     20\n",
       "11     18\n",
       "10     17\n",
       "7      17\n",
       "5      13\n",
       "6      12\n",
       "8      12\n",
       "17      9\n",
       "4       7\n",
       "22      5\n",
       "3       5\n",
       "15      4\n",
       "20      2\n",
       "18      2\n",
       "28      2\n",
       "2       1\n",
       "29      1\n",
       "25      1\n",
       "1       1\n",
       "Name: Счет_2, dtype: int64"
      ]
     },
     "execution_count": 10,
     "metadata": {},
     "output_type": "execute_result"
    }
   ],
   "source": [
    "train['Счет_2'].value_counts()"
   ]
  },
  {
   "cell_type": "code",
   "execution_count": 16,
   "metadata": {
    "scrolled": true
   },
   "outputs": [
    {
     "data": {
      "text/html": [
       "<div>\n",
       "<style scoped>\n",
       "    .dataframe tbody tr th:only-of-type {\n",
       "        vertical-align: middle;\n",
       "    }\n",
       "\n",
       "    .dataframe tbody tr th {\n",
       "        vertical-align: top;\n",
       "    }\n",
       "\n",
       "    .dataframe thead th {\n",
       "        text-align: right;\n",
       "    }\n",
       "</style>\n",
       "<table border=\"1\" class=\"dataframe\">\n",
       "  <thead>\n",
       "    <tr style=\"text-align: right;\">\n",
       "      <th></th>\n",
       "      <th>День</th>\n",
       "      <th>Месяц</th>\n",
       "      <th>Команда</th>\n",
       "      <th>Соперник</th>\n",
       "      <th>Карта</th>\n",
       "      <th>Пик</th>\n",
       "      <th>Прошло_дней_пр</th>\n",
       "      <th>Соперник_пр</th>\n",
       "      <th>Карта_пр</th>\n",
       "      <th>Пик.1</th>\n",
       "      <th>Счет_1_пр</th>\n",
       "      <th>Счет_2_пр</th>\n",
       "      <th>Прошло_дней_ка</th>\n",
       "      <th>Соперник_ка</th>\n",
       "      <th>Пик.2</th>\n",
       "      <th>Счет_1_ка</th>\n",
       "      <th>Счет_2_ка</th>\n",
       "      <th>Счет_1</th>\n",
       "      <th>Счет_2</th>\n",
       "      <th>Победа</th>\n",
       "    </tr>\n",
       "  </thead>\n",
       "  <tbody>\n",
       "    <tr>\n",
       "      <td>142</td>\n",
       "      <td>9</td>\n",
       "      <td>8</td>\n",
       "      <td>Dignitas</td>\n",
       "      <td>AVEZ</td>\n",
       "      <td>vertigo</td>\n",
       "      <td>0</td>\n",
       "      <td>0</td>\n",
       "      <td>AVEZ</td>\n",
       "      <td>nuke</td>\n",
       "      <td>2</td>\n",
       "      <td>16</td>\n",
       "      <td>9</td>\n",
       "      <td>65</td>\n",
       "      <td>Vitality</td>\n",
       "      <td>1</td>\n",
       "      <td>11</td>\n",
       "      <td>16</td>\n",
       "      <td>22</td>\n",
       "      <td>20</td>\n",
       "      <td>1</td>\n",
       "    </tr>\n",
       "    <tr>\n",
       "      <td>157</td>\n",
       "      <td>10</td>\n",
       "      <td>8</td>\n",
       "      <td>lvlUP</td>\n",
       "      <td>KOVA</td>\n",
       "      <td>train</td>\n",
       "      <td>1</td>\n",
       "      <td>0</td>\n",
       "      <td>KOVA</td>\n",
       "      <td>nuke</td>\n",
       "      <td>0</td>\n",
       "      <td>4</td>\n",
       "      <td>16</td>\n",
       "      <td>0</td>\n",
       "      <td>Galaxy_Racer</td>\n",
       "      <td>2</td>\n",
       "      <td>19</td>\n",
       "      <td>22</td>\n",
       "      <td>23</td>\n",
       "      <td>25</td>\n",
       "      <td>0</td>\n",
       "    </tr>\n",
       "    <tr>\n",
       "      <td>169</td>\n",
       "      <td>7</td>\n",
       "      <td>8</td>\n",
       "      <td>lvlUP</td>\n",
       "      <td>Winstrike</td>\n",
       "      <td>nuke</td>\n",
       "      <td>1</td>\n",
       "      <td>9</td>\n",
       "      <td>CR4ZY</td>\n",
       "      <td>nuke</td>\n",
       "      <td>1</td>\n",
       "      <td>15</td>\n",
       "      <td>19</td>\n",
       "      <td>9</td>\n",
       "      <td>CR4ZY</td>\n",
       "      <td>1</td>\n",
       "      <td>15</td>\n",
       "      <td>19</td>\n",
       "      <td>31</td>\n",
       "      <td>29</td>\n",
       "      <td>1</td>\n",
       "    </tr>\n",
       "    <tr>\n",
       "      <td>172</td>\n",
       "      <td>30</td>\n",
       "      <td>7</td>\n",
       "      <td>lvlUP</td>\n",
       "      <td>CR4ZY</td>\n",
       "      <td>mirage</td>\n",
       "      <td>0</td>\n",
       "      <td>1</td>\n",
       "      <td>GamerLegion</td>\n",
       "      <td>mirage</td>\n",
       "      <td>1</td>\n",
       "      <td>11</td>\n",
       "      <td>16</td>\n",
       "      <td>1</td>\n",
       "      <td>GamerLegion</td>\n",
       "      <td>1</td>\n",
       "      <td>11</td>\n",
       "      <td>16</td>\n",
       "      <td>25</td>\n",
       "      <td>28</td>\n",
       "      <td>0</td>\n",
       "    </tr>\n",
       "    <tr>\n",
       "      <td>189</td>\n",
       "      <td>14</td>\n",
       "      <td>8</td>\n",
       "      <td>Nordavind</td>\n",
       "      <td>FATE</td>\n",
       "      <td>dust2</td>\n",
       "      <td>1</td>\n",
       "      <td>0</td>\n",
       "      <td>FATE</td>\n",
       "      <td>overpass</td>\n",
       "      <td>0</td>\n",
       "      <td>2</td>\n",
       "      <td>16</td>\n",
       "      <td>0</td>\n",
       "      <td>HONORIS</td>\n",
       "      <td>1</td>\n",
       "      <td>16</td>\n",
       "      <td>11</td>\n",
       "      <td>22</td>\n",
       "      <td>19</td>\n",
       "      <td>1</td>\n",
       "    </tr>\n",
       "    <tr>\n",
       "      <td>252</td>\n",
       "      <td>17</td>\n",
       "      <td>8</td>\n",
       "      <td>FATE</td>\n",
       "      <td>Izako_Boars</td>\n",
       "      <td>vertigo</td>\n",
       "      <td>0</td>\n",
       "      <td>0</td>\n",
       "      <td>Izako_Boars</td>\n",
       "      <td>train</td>\n",
       "      <td>2</td>\n",
       "      <td>13</td>\n",
       "      <td>16</td>\n",
       "      <td>3</td>\n",
       "      <td>Nordavind</td>\n",
       "      <td>0</td>\n",
       "      <td>5</td>\n",
       "      <td>16</td>\n",
       "      <td>22</td>\n",
       "      <td>20</td>\n",
       "      <td>1</td>\n",
       "    </tr>\n",
       "    <tr>\n",
       "      <td>265</td>\n",
       "      <td>24</td>\n",
       "      <td>8</td>\n",
       "      <td>SKADE</td>\n",
       "      <td>Team_K23</td>\n",
       "      <td>overpass</td>\n",
       "      <td>0</td>\n",
       "      <td>0</td>\n",
       "      <td>Team_K23</td>\n",
       "      <td>dust2</td>\n",
       "      <td>2</td>\n",
       "      <td>16</td>\n",
       "      <td>11</td>\n",
       "      <td>5</td>\n",
       "      <td>Izako_Boars</td>\n",
       "      <td>1</td>\n",
       "      <td>16</td>\n",
       "      <td>7</td>\n",
       "      <td>24</td>\n",
       "      <td>28</td>\n",
       "      <td>0</td>\n",
       "    </tr>\n",
       "    <tr>\n",
       "      <td>319</td>\n",
       "      <td>19</td>\n",
       "      <td>8</td>\n",
       "      <td>AGO</td>\n",
       "      <td>Sprout</td>\n",
       "      <td>mirage</td>\n",
       "      <td>1</td>\n",
       "      <td>0</td>\n",
       "      <td>Sprout</td>\n",
       "      <td>inferno</td>\n",
       "      <td>2</td>\n",
       "      <td>5</td>\n",
       "      <td>16</td>\n",
       "      <td>2</td>\n",
       "      <td>Sprout</td>\n",
       "      <td>0</td>\n",
       "      <td>16</td>\n",
       "      <td>7</td>\n",
       "      <td>22</td>\n",
       "      <td>18</td>\n",
       "      <td>1</td>\n",
       "    </tr>\n",
       "    <tr>\n",
       "      <td>395</td>\n",
       "      <td>20</td>\n",
       "      <td>8</td>\n",
       "      <td>HAVU</td>\n",
       "      <td>Sprout</td>\n",
       "      <td>vertigo</td>\n",
       "      <td>0</td>\n",
       "      <td>0</td>\n",
       "      <td>Sprout</td>\n",
       "      <td>nuke</td>\n",
       "      <td>2</td>\n",
       "      <td>10</td>\n",
       "      <td>16</td>\n",
       "      <td>9</td>\n",
       "      <td>AGO</td>\n",
       "      <td>0</td>\n",
       "      <td>9</td>\n",
       "      <td>16</td>\n",
       "      <td>22</td>\n",
       "      <td>19</td>\n",
       "      <td>1</td>\n",
       "    </tr>\n",
       "    <tr>\n",
       "      <td>400</td>\n",
       "      <td>16</td>\n",
       "      <td>8</td>\n",
       "      <td>HAVU</td>\n",
       "      <td>c0ntact</td>\n",
       "      <td>nuke</td>\n",
       "      <td>2</td>\n",
       "      <td>0</td>\n",
       "      <td>c0ntact</td>\n",
       "      <td>mirage</td>\n",
       "      <td>0</td>\n",
       "      <td>16</td>\n",
       "      <td>6</td>\n",
       "      <td>5</td>\n",
       "      <td>AGO</td>\n",
       "      <td>2</td>\n",
       "      <td>16</td>\n",
       "      <td>12</td>\n",
       "      <td>22</td>\n",
       "      <td>18</td>\n",
       "      <td>1</td>\n",
       "    </tr>\n",
       "    <tr>\n",
       "      <td>411</td>\n",
       "      <td>18</td>\n",
       "      <td>8</td>\n",
       "      <td>OG</td>\n",
       "      <td>NiP</td>\n",
       "      <td>mirage</td>\n",
       "      <td>1</td>\n",
       "      <td>0</td>\n",
       "      <td>NiP</td>\n",
       "      <td>train</td>\n",
       "      <td>0</td>\n",
       "      <td>12</td>\n",
       "      <td>16</td>\n",
       "      <td>3</td>\n",
       "      <td>BIG</td>\n",
       "      <td>1</td>\n",
       "      <td>14</td>\n",
       "      <td>16</td>\n",
       "      <td>22</td>\n",
       "      <td>19</td>\n",
       "      <td>1</td>\n",
       "    </tr>\n",
       "  </tbody>\n",
       "</table>\n",
       "</div>"
      ],
      "text/plain": [
       "     День  Месяц    Команда     Соперник     Карта  Пик  Прошло_дней_пр  \\\n",
       "142     9      8   Dignitas         AVEZ   vertigo    0               0   \n",
       "157    10      8      lvlUP         KOVA     train    1               0   \n",
       "169     7      8      lvlUP    Winstrike      nuke    1               9   \n",
       "172    30      7      lvlUP        CR4ZY    mirage    0               1   \n",
       "189    14      8  Nordavind         FATE     dust2    1               0   \n",
       "252    17      8       FATE  Izako_Boars   vertigo    0               0   \n",
       "265    24      8      SKADE     Team_K23  overpass    0               0   \n",
       "319    19      8        AGO       Sprout    mirage    1               0   \n",
       "395    20      8       HAVU       Sprout   vertigo    0               0   \n",
       "400    16      8       HAVU      c0ntact      nuke    2               0   \n",
       "411    18      8         OG          NiP    mirage    1               0   \n",
       "\n",
       "     Соперник_пр  Карта_пр  Пик.1  Счет_1_пр  Счет_2_пр  Прошло_дней_ка  \\\n",
       "142         AVEZ      nuke      2         16          9              65   \n",
       "157         KOVA      nuke      0          4         16               0   \n",
       "169        CR4ZY      nuke      1         15         19               9   \n",
       "172  GamerLegion    mirage      1         11         16               1   \n",
       "189         FATE  overpass      0          2         16               0   \n",
       "252  Izako_Boars     train      2         13         16               3   \n",
       "265     Team_K23     dust2      2         16         11               5   \n",
       "319       Sprout   inferno      2          5         16               2   \n",
       "395       Sprout      nuke      2         10         16               9   \n",
       "400      c0ntact    mirage      0         16          6               5   \n",
       "411          NiP     train      0         12         16               3   \n",
       "\n",
       "      Соперник_ка  Пик.2  Счет_1_ка  Счет_2_ка  Счет_1  Счет_2  Победа  \n",
       "142      Vitality      1         11         16      22      20       1  \n",
       "157  Galaxy_Racer      2         19         22      23      25       0  \n",
       "169         CR4ZY      1         15         19      31      29       1  \n",
       "172   GamerLegion      1         11         16      25      28       0  \n",
       "189       HONORIS      1         16         11      22      19       1  \n",
       "252     Nordavind      0          5         16      22      20       1  \n",
       "265   Izako_Boars      1         16          7      24      28       0  \n",
       "319        Sprout      0         16          7      22      18       1  \n",
       "395           AGO      0          9         16      22      19       1  \n",
       "400           AGO      2         16         12      22      18       1  \n",
       "411           BIG      1         14         16      22      19       1  "
      ]
     },
     "execution_count": 16,
     "metadata": {},
     "output_type": "execute_result"
    }
   ],
   "source": [
    "train.loc[train['Счет_1'] > 20]"
   ]
  },
  {
   "cell_type": "code",
   "execution_count": 28,
   "metadata": {
    "scrolled": false
   },
   "outputs": [
    {
     "data": {
      "text/html": [
       "<div>\n",
       "<style scoped>\n",
       "    .dataframe tbody tr th:only-of-type {\n",
       "        vertical-align: middle;\n",
       "    }\n",
       "\n",
       "    .dataframe tbody tr th {\n",
       "        vertical-align: top;\n",
       "    }\n",
       "\n",
       "    .dataframe thead th {\n",
       "        text-align: right;\n",
       "    }\n",
       "</style>\n",
       "<table border=\"1\" class=\"dataframe\">\n",
       "  <thead>\n",
       "    <tr style=\"text-align: right;\">\n",
       "      <th></th>\n",
       "      <th>День</th>\n",
       "      <th>Месяц</th>\n",
       "      <th>Команда</th>\n",
       "      <th>Соперник</th>\n",
       "      <th>Карта</th>\n",
       "      <th>Пик</th>\n",
       "      <th>Прошло_дней_пр</th>\n",
       "      <th>Соперник_пр</th>\n",
       "      <th>Карта_пр</th>\n",
       "      <th>Пик.1</th>\n",
       "      <th>Счет_1_пр</th>\n",
       "      <th>Счет_2_пр</th>\n",
       "      <th>Прошло_дней_ка</th>\n",
       "      <th>Соперник_ка</th>\n",
       "      <th>Пик.2</th>\n",
       "      <th>Счет_1_ка</th>\n",
       "      <th>Счет_2_ка</th>\n",
       "      <th>Счет_1</th>\n",
       "      <th>Счет_2</th>\n",
       "      <th>Победа</th>\n",
       "    </tr>\n",
       "  </thead>\n",
       "  <tbody>\n",
       "    <tr>\n",
       "      <td>298</td>\n",
       "      <td>11</td>\n",
       "      <td>8</td>\n",
       "      <td>AGO</td>\n",
       "      <td>Budapest_Five</td>\n",
       "      <td>train</td>\n",
       "      <td>1</td>\n",
       "      <td>0</td>\n",
       "      <td>HAVU</td>\n",
       "      <td>mirage</td>\n",
       "      <td>1</td>\n",
       "      <td>16</td>\n",
       "      <td>7</td>\n",
       "      <td>37</td>\n",
       "      <td>ex-SMASH</td>\n",
       "      <td>1</td>\n",
       "      <td>16</td>\n",
       "      <td>6</td>\n",
       "      <td>17</td>\n",
       "      <td>19</td>\n",
       "      <td>0</td>\n",
       "    </tr>\n",
       "    <tr>\n",
       "      <td>299</td>\n",
       "      <td>11</td>\n",
       "      <td>8</td>\n",
       "      <td>AGO</td>\n",
       "      <td>HAVU</td>\n",
       "      <td>mirage</td>\n",
       "      <td>1</td>\n",
       "      <td>0</td>\n",
       "      <td>HAVU</td>\n",
       "      <td>vertigo</td>\n",
       "      <td>2</td>\n",
       "      <td>16</td>\n",
       "      <td>9</td>\n",
       "      <td>4</td>\n",
       "      <td>Galaxy_Racer</td>\n",
       "      <td>0</td>\n",
       "      <td>16</td>\n",
       "      <td>14</td>\n",
       "      <td>16</td>\n",
       "      <td>7</td>\n",
       "      <td>1</td>\n",
       "    </tr>\n",
       "    <tr>\n",
       "      <td>300</td>\n",
       "      <td>11</td>\n",
       "      <td>8</td>\n",
       "      <td>AGO</td>\n",
       "      <td>HAVU</td>\n",
       "      <td>vertigo</td>\n",
       "      <td>2</td>\n",
       "      <td>0</td>\n",
       "      <td>HAVU</td>\n",
       "      <td>nuke</td>\n",
       "      <td>0</td>\n",
       "      <td>12</td>\n",
       "      <td>16</td>\n",
       "      <td>4</td>\n",
       "      <td>Galaxy_Racer</td>\n",
       "      <td>2</td>\n",
       "      <td>16</td>\n",
       "      <td>9</td>\n",
       "      <td>16</td>\n",
       "      <td>9</td>\n",
       "      <td>1</td>\n",
       "    </tr>\n",
       "    <tr>\n",
       "      <td>301</td>\n",
       "      <td>11</td>\n",
       "      <td>8</td>\n",
       "      <td>AGO</td>\n",
       "      <td>HAVU</td>\n",
       "      <td>nuke</td>\n",
       "      <td>0</td>\n",
       "      <td>2</td>\n",
       "      <td>HONORIS</td>\n",
       "      <td>dust2</td>\n",
       "      <td>1</td>\n",
       "      <td>16</td>\n",
       "      <td>9</td>\n",
       "      <td>45</td>\n",
       "      <td>Lyngby_Vikings</td>\n",
       "      <td>1</td>\n",
       "      <td>12</td>\n",
       "      <td>16</td>\n",
       "      <td>12</td>\n",
       "      <td>16</td>\n",
       "      <td>0</td>\n",
       "    </tr>\n",
       "    <tr>\n",
       "      <td>302</td>\n",
       "      <td>9</td>\n",
       "      <td>8</td>\n",
       "      <td>AGO</td>\n",
       "      <td>HONORIS</td>\n",
       "      <td>dust2</td>\n",
       "      <td>1</td>\n",
       "      <td>2</td>\n",
       "      <td>Galaxy_Racer</td>\n",
       "      <td>vertigo</td>\n",
       "      <td>2</td>\n",
       "      <td>16</td>\n",
       "      <td>9</td>\n",
       "      <td>35</td>\n",
       "      <td>Nordavind</td>\n",
       "      <td>1</td>\n",
       "      <td>19</td>\n",
       "      <td>22</td>\n",
       "      <td>16</td>\n",
       "      <td>9</td>\n",
       "      <td>1</td>\n",
       "    </tr>\n",
       "    <tr>\n",
       "      <td>303</td>\n",
       "      <td>7</td>\n",
       "      <td>8</td>\n",
       "      <td>AGO</td>\n",
       "      <td>Galaxy_Racer</td>\n",
       "      <td>vertigo</td>\n",
       "      <td>2</td>\n",
       "      <td>0</td>\n",
       "      <td>Galaxy_Racer</td>\n",
       "      <td>mirage</td>\n",
       "      <td>0</td>\n",
       "      <td>16</td>\n",
       "      <td>14</td>\n",
       "      <td>33</td>\n",
       "      <td>Nordavind</td>\n",
       "      <td>2</td>\n",
       "      <td>16</td>\n",
       "      <td>5</td>\n",
       "      <td>16</td>\n",
       "      <td>9</td>\n",
       "      <td>1</td>\n",
       "    </tr>\n",
       "    <tr>\n",
       "      <td>304</td>\n",
       "      <td>7</td>\n",
       "      <td>8</td>\n",
       "      <td>AGO</td>\n",
       "      <td>Galaxy_Racer</td>\n",
       "      <td>mirage</td>\n",
       "      <td>0</td>\n",
       "      <td>1</td>\n",
       "      <td>Sprout</td>\n",
       "      <td>mirage</td>\n",
       "      <td>0</td>\n",
       "      <td>14</td>\n",
       "      <td>16</td>\n",
       "      <td>1</td>\n",
       "      <td>Sprout</td>\n",
       "      <td>0</td>\n",
       "      <td>14</td>\n",
       "      <td>16</td>\n",
       "      <td>16</td>\n",
       "      <td>14</td>\n",
       "      <td>1</td>\n",
       "    </tr>\n",
       "    <tr>\n",
       "      <td>305</td>\n",
       "      <td>6</td>\n",
       "      <td>8</td>\n",
       "      <td>AGO</td>\n",
       "      <td>Sprout</td>\n",
       "      <td>mirage</td>\n",
       "      <td>0</td>\n",
       "      <td>0</td>\n",
       "      <td>Sprout</td>\n",
       "      <td>inferno</td>\n",
       "      <td>2</td>\n",
       "      <td>11</td>\n",
       "      <td>16</td>\n",
       "      <td>32</td>\n",
       "      <td>Nordavind</td>\n",
       "      <td>0</td>\n",
       "      <td>11</td>\n",
       "      <td>16</td>\n",
       "      <td>14</td>\n",
       "      <td>16</td>\n",
       "      <td>0</td>\n",
       "    </tr>\n",
       "    <tr>\n",
       "      <td>306</td>\n",
       "      <td>6</td>\n",
       "      <td>8</td>\n",
       "      <td>AGO</td>\n",
       "      <td>Sprout</td>\n",
       "      <td>inferno</td>\n",
       "      <td>2</td>\n",
       "      <td>32</td>\n",
       "      <td>Nordavind</td>\n",
       "      <td>dust2</td>\n",
       "      <td>1</td>\n",
       "      <td>19</td>\n",
       "      <td>22</td>\n",
       "      <td>32</td>\n",
       "      <td>ex-SMASH</td>\n",
       "      <td>2</td>\n",
       "      <td>22</td>\n",
       "      <td>18</td>\n",
       "      <td>11</td>\n",
       "      <td>16</td>\n",
       "      <td>0</td>\n",
       "    </tr>\n",
       "  </tbody>\n",
       "</table>\n",
       "</div>"
      ],
      "text/plain": [
       "     День  Месяц Команда       Соперник    Карта  Пик  Прошло_дней_пр  \\\n",
       "298    11      8     AGO  Budapest_Five    train    1               0   \n",
       "299    11      8     AGO           HAVU   mirage    1               0   \n",
       "300    11      8     AGO           HAVU  vertigo    2               0   \n",
       "301    11      8     AGO           HAVU     nuke    0               2   \n",
       "302     9      8     AGO        HONORIS    dust2    1               2   \n",
       "303     7      8     AGO   Galaxy_Racer  vertigo    2               0   \n",
       "304     7      8     AGO   Galaxy_Racer   mirage    0               1   \n",
       "305     6      8     AGO         Sprout   mirage    0               0   \n",
       "306     6      8     AGO         Sprout  inferno    2              32   \n",
       "\n",
       "      Соперник_пр Карта_пр  Пик.1  Счет_1_пр  Счет_2_пр  Прошло_дней_ка  \\\n",
       "298          HAVU   mirage      1         16          7              37   \n",
       "299          HAVU  vertigo      2         16          9               4   \n",
       "300          HAVU     nuke      0         12         16               4   \n",
       "301       HONORIS    dust2      1         16          9              45   \n",
       "302  Galaxy_Racer  vertigo      2         16          9              35   \n",
       "303  Galaxy_Racer   mirage      0         16         14              33   \n",
       "304        Sprout   mirage      0         14         16               1   \n",
       "305        Sprout  inferno      2         11         16              32   \n",
       "306     Nordavind    dust2      1         19         22              32   \n",
       "\n",
       "        Соперник_ка  Пик.2  Счет_1_ка  Счет_2_ка  Счет_1  Счет_2  Победа  \n",
       "298        ex-SMASH      1         16          6      17      19       0  \n",
       "299    Galaxy_Racer      0         16         14      16       7       1  \n",
       "300    Galaxy_Racer      2         16          9      16       9       1  \n",
       "301  Lyngby_Vikings      1         12         16      12      16       0  \n",
       "302       Nordavind      1         19         22      16       9       1  \n",
       "303       Nordavind      2         16          5      16       9       1  \n",
       "304          Sprout      0         14         16      16      14       1  \n",
       "305       Nordavind      0         11         16      14      16       0  \n",
       "306        ex-SMASH      2         22         18      11      16       0  "
      ]
     },
     "execution_count": 28,
     "metadata": {},
     "output_type": "execute_result"
    }
   ],
   "source": [
    "train.loc[train['Команда'] == 'AGO']"
   ]
  },
  {
   "cell_type": "code",
   "execution_count": 7,
   "metadata": {},
   "outputs": [
    {
     "data": {
      "text/html": [
       "<div>\n",
       "<style scoped>\n",
       "    .dataframe tbody tr th:only-of-type {\n",
       "        vertical-align: middle;\n",
       "    }\n",
       "\n",
       "    .dataframe tbody tr th {\n",
       "        vertical-align: top;\n",
       "    }\n",
       "\n",
       "    .dataframe thead th {\n",
       "        text-align: right;\n",
       "    }\n",
       "</style>\n",
       "<table border=\"1\" class=\"dataframe\">\n",
       "  <thead>\n",
       "    <tr style=\"text-align: right;\">\n",
       "      <th></th>\n",
       "      <th>День</th>\n",
       "      <th>Месяц</th>\n",
       "      <th>Команда</th>\n",
       "      <th>Соперник</th>\n",
       "      <th>Карта</th>\n",
       "      <th>Пик</th>\n",
       "      <th>Прошло_дней_пр</th>\n",
       "      <th>Соперник_пр</th>\n",
       "      <th>Карта_пр</th>\n",
       "      <th>Пик.1</th>\n",
       "      <th>Счет_1_пр</th>\n",
       "      <th>Счет_2_пр</th>\n",
       "      <th>Прошло_дней_ка</th>\n",
       "      <th>Соперник_ка</th>\n",
       "      <th>Пик.2</th>\n",
       "      <th>Счет_1_ка</th>\n",
       "      <th>Счет_2_ка</th>\n",
       "      <th>Счет_1</th>\n",
       "      <th>Счет_2</th>\n",
       "      <th>Победа</th>\n",
       "    </tr>\n",
       "  </thead>\n",
       "  <tbody>\n",
       "    <tr>\n",
       "      <td>0</td>\n",
       "      <td>28</td>\n",
       "      <td>8</td>\n",
       "      <td>AVEZ</td>\n",
       "      <td>c0ntact</td>\n",
       "      <td>mirage</td>\n",
       "      <td>0</td>\n",
       "      <td>0</td>\n",
       "      <td>c0ntact</td>\n",
       "      <td>overpass</td>\n",
       "      <td>2</td>\n",
       "      <td>16</td>\n",
       "      <td>11</td>\n",
       "      <td>45</td>\n",
       "      <td>Hard_Legion</td>\n",
       "      <td>0</td>\n",
       "      <td>3</td>\n",
       "      <td>16</td>\n",
       "      <td>16</td>\n",
       "      <td>4</td>\n",
       "      <td>1</td>\n",
       "    </tr>\n",
       "  </tbody>\n",
       "</table>\n",
       "</div>"
      ],
      "text/plain": [
       "   День  Месяц Команда Соперник   Карта  Пик  Прошло_дней_пр Соперник_пр  \\\n",
       "0    28      8    AVEZ  c0ntact  mirage    0               0     c0ntact   \n",
       "\n",
       "   Карта_пр  Пик.1  Счет_1_пр  Счет_2_пр  Прошло_дней_ка  Соперник_ка  Пик.2  \\\n",
       "0  overpass      2         16         11              45  Hard_Legion      0   \n",
       "\n",
       "   Счет_1_ка  Счет_2_ка  Счет_1  Счет_2  Победа  \n",
       "0          3         16      16       4       1  "
      ]
     },
     "execution_count": 7,
     "metadata": {},
     "output_type": "execute_result"
    }
   ],
   "source": [
    "train[(train['Команда'] == 'AVEZ') & (train['Карта'] == 'mirage')]"
   ]
  },
  {
   "cell_type": "code",
   "execution_count": null,
   "metadata": {},
   "outputs": [],
   "source": []
  },
  {
   "cell_type": "code",
   "execution_count": 5,
   "metadata": {},
   "outputs": [],
   "source": [
    "x_graf = train.loc[train['Команда'] == 'forZe']"
   ]
  },
  {
   "cell_type": "code",
   "execution_count": 20,
   "metadata": {},
   "outputs": [
    {
     "data": {
      "image/png": "[encoded data removed]",
      "text/plain": [
       "<Figure size 432x288 with 1 Axes>"
      ]
     },
     "metadata": {
      "needs_background": "light"
     },
     "output_type": "display_data"
    }
   ],
   "source": [
    "plt.hist(x_graf['Счет_2'],bins = 8)\n",
    "plt.show()"
   ]
  },
  {
   "cell_type": "code",
   "execution_count": 21,
   "metadata": {},
   "outputs": [
    {
     "data": {
      "image/png": "[encoded data removed]",
      "text/plain": [
       "<Figure size 1440x1440 with 16 Axes>"
      ]
     },
     "metadata": {
      "needs_background": "light"
     },
     "output_type": "display_data"
    }
   ],
   "source": [
    "train.hist(train.columns, figsize=(20, 20));"
   ]
  },
  {
   "cell_type": "code",
   "execution_count": 8,
   "metadata": {},
   "outputs": [
    {
     "data": {
      "text/plain": [
       "<matplotlib.axes._subplots.AxesSubplot at 0x42f4c1d5c8>"
      ]
     },
     "execution_count": 8,
     "metadata": {},
     "output_type": "execute_result"
    },
    {
     "data": {
      "image/png": "[encoded data removed]",
      "text/plain": [
       "<Figure size 864x648 with 2 Axes>"
      ]
     },
     "metadata": {
      "needs_background": "light"
     },
     "output_type": "display_data"
    }
   ],
   "source": [
    "plt.figure(figsize=(12,9))\n",
    "sns.heatmap(train.corr())"
   ]
  },
  {
   "cell_type": "code",
   "execution_count": null,
   "metadata": {},
   "outputs": [],
   "source": []
  },
  {
   "cell_type": "code",
   "execution_count": null,
   "metadata": {},
   "outputs": [],
   "source": []
  },
  {
   "cell_type": "code",
   "execution_count": null,
   "metadata": {},
   "outputs": [],
   "source": []
  },
  {
   "cell_type": "code",
   "execution_count": 4,
   "metadata": {},
   "outputs": [],
   "source": [
    "train = pd.get_dummies(train)\n",
    "\n",
    "test = train[(train['День'] > 9) & (train['Месяц'] == 9)]\n",
    "train = train[(train['День'] <= 9) | (train['Месяц'] != 9)]"
   ]
  },
  {
   "cell_type": "code",
   "execution_count": 5,
   "metadata": {},
   "outputs": [
    {
     "data": {
      "text/html": [
       "<div>\n",
       "<style scoped>\n",
       "    .dataframe tbody tr th:only-of-type {\n",
       "        vertical-align: middle;\n",
       "    }\n",
       "\n",
       "    .dataframe tbody tr th {\n",
       "        vertical-align: top;\n",
       "    }\n",
       "\n",
       "    .dataframe thead th {\n",
       "        text-align: right;\n",
       "    }\n",
       "</style>\n",
       "<table border=\"1\" class=\"dataframe\">\n",
       "  <thead>\n",
       "    <tr style=\"text-align: right;\">\n",
       "      <th></th>\n",
       "      <th>День</th>\n",
       "      <th>Месяц</th>\n",
       "      <th>Пик</th>\n",
       "      <th>Прошло_дней_пр</th>\n",
       "      <th>Пик.1</th>\n",
       "      <th>Счет_1_пр</th>\n",
       "      <th>Счет_2_пр</th>\n",
       "      <th>Прошло_дней_ка</th>\n",
       "      <th>Пик.2</th>\n",
       "      <th>Счет_1_ка</th>\n",
       "      <th>...</th>\n",
       "      <th>Соперник_ка_Wisla_Krakow</th>\n",
       "      <th>Соперник_ка_Wizards</th>\n",
       "      <th>Соперник_ка_Wygers</th>\n",
       "      <th>Соперник_ка_bezotca</th>\n",
       "      <th>Соперник_ка_c0ntact</th>\n",
       "      <th>Соперник_ка_ex-SMASH</th>\n",
       "      <th>Соперник_ка_forZe</th>\n",
       "      <th>Соперник_ка_lvlUP</th>\n",
       "      <th>Соперник_ка_selectah</th>\n",
       "      <th>Соперник_ка_x6tence</th>\n",
       "    </tr>\n",
       "  </thead>\n",
       "  <tbody>\n",
       "    <tr>\n",
       "      <td>0</td>\n",
       "      <td>15</td>\n",
       "      <td>9</td>\n",
       "      <td>1</td>\n",
       "      <td>1</td>\n",
       "      <td>2</td>\n",
       "      <td>7</td>\n",
       "      <td>16</td>\n",
       "      <td>8</td>\n",
       "      <td>0</td>\n",
       "      <td>16</td>\n",
       "      <td>...</td>\n",
       "      <td>0</td>\n",
       "      <td>0</td>\n",
       "      <td>0</td>\n",
       "      <td>0</td>\n",
       "      <td>0</td>\n",
       "      <td>0</td>\n",
       "      <td>0</td>\n",
       "      <td>0</td>\n",
       "      <td>0</td>\n",
       "      <td>0</td>\n",
       "    </tr>\n",
       "    <tr>\n",
       "      <td>1</td>\n",
       "      <td>14</td>\n",
       "      <td>9</td>\n",
       "      <td>2</td>\n",
       "      <td>0</td>\n",
       "      <td>0</td>\n",
       "      <td>12</td>\n",
       "      <td>16</td>\n",
       "      <td>3</td>\n",
       "      <td>0</td>\n",
       "      <td>16</td>\n",
       "      <td>...</td>\n",
       "      <td>0</td>\n",
       "      <td>0</td>\n",
       "      <td>0</td>\n",
       "      <td>0</td>\n",
       "      <td>0</td>\n",
       "      <td>0</td>\n",
       "      <td>0</td>\n",
       "      <td>0</td>\n",
       "      <td>0</td>\n",
       "      <td>0</td>\n",
       "    </tr>\n",
       "    <tr>\n",
       "      <td>2</td>\n",
       "      <td>14</td>\n",
       "      <td>9</td>\n",
       "      <td>0</td>\n",
       "      <td>3</td>\n",
       "      <td>0</td>\n",
       "      <td>16</td>\n",
       "      <td>13</td>\n",
       "      <td>4</td>\n",
       "      <td>0</td>\n",
       "      <td>7</td>\n",
       "      <td>...</td>\n",
       "      <td>1</td>\n",
       "      <td>0</td>\n",
       "      <td>0</td>\n",
       "      <td>0</td>\n",
       "      <td>0</td>\n",
       "      <td>0</td>\n",
       "      <td>0</td>\n",
       "      <td>0</td>\n",
       "      <td>0</td>\n",
       "      <td>0</td>\n",
       "    </tr>\n",
       "    <tr>\n",
       "      <td>3</td>\n",
       "      <td>11</td>\n",
       "      <td>9</td>\n",
       "      <td>0</td>\n",
       "      <td>0</td>\n",
       "      <td>2</td>\n",
       "      <td>16</td>\n",
       "      <td>7</td>\n",
       "      <td>1</td>\n",
       "      <td>2</td>\n",
       "      <td>16</td>\n",
       "      <td>...</td>\n",
       "      <td>1</td>\n",
       "      <td>0</td>\n",
       "      <td>0</td>\n",
       "      <td>0</td>\n",
       "      <td>0</td>\n",
       "      <td>0</td>\n",
       "      <td>0</td>\n",
       "      <td>0</td>\n",
       "      <td>0</td>\n",
       "      <td>0</td>\n",
       "    </tr>\n",
       "    <tr>\n",
       "      <td>4</td>\n",
       "      <td>11</td>\n",
       "      <td>9</td>\n",
       "      <td>2</td>\n",
       "      <td>1</td>\n",
       "      <td>1</td>\n",
       "      <td>10</td>\n",
       "      <td>16</td>\n",
       "      <td>2</td>\n",
       "      <td>1</td>\n",
       "      <td>17</td>\n",
       "      <td>...</td>\n",
       "      <td>0</td>\n",
       "      <td>0</td>\n",
       "      <td>0</td>\n",
       "      <td>0</td>\n",
       "      <td>0</td>\n",
       "      <td>0</td>\n",
       "      <td>0</td>\n",
       "      <td>0</td>\n",
       "      <td>0</td>\n",
       "      <td>0</td>\n",
       "    </tr>\n",
       "    <tr>\n",
       "      <td>5</td>\n",
       "      <td>10</td>\n",
       "      <td>9</td>\n",
       "      <td>1</td>\n",
       "      <td>0</td>\n",
       "      <td>0</td>\n",
       "      <td>7</td>\n",
       "      <td>16</td>\n",
       "      <td>22</td>\n",
       "      <td>0</td>\n",
       "      <td>1</td>\n",
       "      <td>...</td>\n",
       "      <td>0</td>\n",
       "      <td>0</td>\n",
       "      <td>0</td>\n",
       "      <td>0</td>\n",
       "      <td>0</td>\n",
       "      <td>0</td>\n",
       "      <td>0</td>\n",
       "      <td>0</td>\n",
       "      <td>0</td>\n",
       "      <td>0</td>\n",
       "    </tr>\n",
       "    <tr>\n",
       "      <td>6</td>\n",
       "      <td>10</td>\n",
       "      <td>9</td>\n",
       "      <td>0</td>\n",
       "      <td>0</td>\n",
       "      <td>2</td>\n",
       "      <td>16</td>\n",
       "      <td>13</td>\n",
       "      <td>2</td>\n",
       "      <td>0</td>\n",
       "      <td>16</td>\n",
       "      <td>...</td>\n",
       "      <td>0</td>\n",
       "      <td>0</td>\n",
       "      <td>0</td>\n",
       "      <td>0</td>\n",
       "      <td>0</td>\n",
       "      <td>0</td>\n",
       "      <td>0</td>\n",
       "      <td>0</td>\n",
       "      <td>0</td>\n",
       "      <td>0</td>\n",
       "    </tr>\n",
       "    <tr>\n",
       "      <td>7</td>\n",
       "      <td>10</td>\n",
       "      <td>9</td>\n",
       "      <td>2</td>\n",
       "      <td>1</td>\n",
       "      <td>1</td>\n",
       "      <td>17</td>\n",
       "      <td>19</td>\n",
       "      <td>1</td>\n",
       "      <td>2</td>\n",
       "      <td>12</td>\n",
       "      <td>...</td>\n",
       "      <td>0</td>\n",
       "      <td>0</td>\n",
       "      <td>0</td>\n",
       "      <td>0</td>\n",
       "      <td>0</td>\n",
       "      <td>0</td>\n",
       "      <td>0</td>\n",
       "      <td>0</td>\n",
       "      <td>0</td>\n",
       "      <td>0</td>\n",
       "    </tr>\n",
       "  </tbody>\n",
       "</table>\n",
       "<p>8 rows × 236 columns</p>\n",
       "</div>"
      ],
      "text/plain": [
       "   День  Месяц  Пик  Прошло_дней_пр  Пик.1  Счет_1_пр  Счет_2_пр  \\\n",
       "0    15      9    1               1      2          7         16   \n",
       "1    14      9    2               0      0         12         16   \n",
       "2    14      9    0               3      0         16         13   \n",
       "3    11      9    0               0      2         16          7   \n",
       "4    11      9    2               1      1         10         16   \n",
       "5    10      9    1               0      0          7         16   \n",
       "6    10      9    0               0      2         16         13   \n",
       "7    10      9    2               1      1         17         19   \n",
       "\n",
       "   Прошло_дней_ка  Пик.2  Счет_1_ка  ...  Соперник_ка_Wisla_Krakow  \\\n",
       "0               8      0         16  ...                         0   \n",
       "1               3      0         16  ...                         0   \n",
       "2               4      0          7  ...                         1   \n",
       "3               1      2         16  ...                         1   \n",
       "4               2      1         17  ...                         0   \n",
       "5              22      0          1  ...                         0   \n",
       "6               2      0         16  ...                         0   \n",
       "7               1      2         12  ...                         0   \n",
       "\n",
       "   Соперник_ка_Wizards  Соперник_ка_Wygers  Соперник_ка_bezotca  \\\n",
       "0                    0                   0                    0   \n",
       "1                    0                   0                    0   \n",
       "2                    0                   0                    0   \n",
       "3                    0                   0                    0   \n",
       "4                    0                   0                    0   \n",
       "5                    0                   0                    0   \n",
       "6                    0                   0                    0   \n",
       "7                    0                   0                    0   \n",
       "\n",
       "   Соперник_ка_c0ntact  Соперник_ка_ex-SMASH  Соперник_ка_forZe  \\\n",
       "0                    0                     0                  0   \n",
       "1                    0                     0                  0   \n",
       "2                    0                     0                  0   \n",
       "3                    0                     0                  0   \n",
       "4                    0                     0                  0   \n",
       "5                    0                     0                  0   \n",
       "6                    0                     0                  0   \n",
       "7                    0                     0                  0   \n",
       "\n",
       "   Соперник_ка_lvlUP  Соперник_ка_selectah  Соперник_ка_x6tence  \n",
       "0                  0                     0                    0  \n",
       "1                  0                     0                    0  \n",
       "2                  0                     0                    0  \n",
       "3                  0                     0                    0  \n",
       "4                  0                     0                    0  \n",
       "5                  0                     0                    0  \n",
       "6                  0                     0                    0  \n",
       "7                  0                     0                    0  \n",
       "\n",
       "[8 rows x 236 columns]"
      ]
     },
     "execution_count": 5,
     "metadata": {},
     "output_type": "execute_result"
    }
   ],
   "source": [
    "test"
   ]
  },
  {
   "cell_type": "code",
   "execution_count": 7,
   "metadata": {},
   "outputs": [],
   "source": [
    "y1 = train[train.columns[11]]\n",
    "y2 = train[train.columns[12]]\n",
    "i = train[train.columns[13]]\n",
    "x = train.drop(train.columns[11:14], axis = 1)\n",
    "\n",
    "ot1 = test[test.columns[11]]\n",
    "ot2 = test[test.columns[12]]\n",
    "ot = test[test.columns[13]]\n",
    "test = test.drop(test.columns[11:14], axis = 1)"
   ]
  },
  {
   "cell_type": "code",
   "execution_count": 21,
   "metadata": {},
   "outputs": [
    {
     "name": "stdout",
     "output_type": "stream",
     "text": [
      "0:\tlearn: 4.0004336\ttotal: 8.73ms\tremaining: 52.4ms\n",
      "1:\tlearn: 3.9730599\ttotal: 15.1ms\tremaining: 37.9ms\n",
      "2:\tlearn: 3.9650440\ttotal: 19.8ms\tremaining: 26.5ms\n",
      "3:\tlearn: 3.9266686\ttotal: 24.7ms\tremaining: 18.5ms\n",
      "4:\tlearn: 3.9054470\ttotal: 29.4ms\tremaining: 11.8ms\n",
      "5:\tlearn: 3.8775206\ttotal: 34.2ms\tremaining: 5.7ms\n",
      "6:\tlearn: 3.8609423\ttotal: 39ms\tremaining: 0us\n",
      "0:\tlearn: 4.3988643\ttotal: 7.65ms\tremaining: 45.9ms\n",
      "1:\tlearn: 4.3555863\ttotal: 12.7ms\tremaining: 31.8ms\n",
      "2:\tlearn: 4.3430740\ttotal: 18.3ms\tremaining: 24.4ms\n",
      "3:\tlearn: 4.3163236\ttotal: 23.4ms\tremaining: 17.5ms\n",
      "4:\tlearn: 4.2848347\ttotal: 28.4ms\tremaining: 11.4ms\n",
      "5:\tlearn: 4.2590324\ttotal: 34.5ms\tremaining: 5.76ms\n",
      "6:\tlearn: 4.2456593\ttotal: 39.4ms\tremaining: 0us\n",
      "0:\tlearn: 0.4957202\ttotal: 8.76ms\tremaining: 52.6ms\n",
      "1:\tlearn: 0.4932650\ttotal: 13.4ms\tremaining: 33.6ms\n",
      "2:\tlearn: 0.4928484\ttotal: 18.1ms\tremaining: 24.2ms\n",
      "3:\tlearn: 0.4901559\ttotal: 22.9ms\tremaining: 17.2ms\n",
      "4:\tlearn: 0.4884877\ttotal: 27.7ms\tremaining: 11.1ms\n",
      "5:\tlearn: 0.4861369\ttotal: 32.7ms\tremaining: 5.45ms\n",
      "6:\tlearn: 0.4849431\ttotal: 37.5ms\tremaining: 0us\n"
     ]
    },
    {
     "data": {
      "text/plain": [
       "<catboost.core.CatBoostRegressor at 0x4f33917948>"
      ]
     },
     "execution_count": 21,
     "metadata": {},
     "output_type": "execute_result"
    }
   ],
   "source": [
    "params = \\\n",
    "{ \n",
    "'learning_rate': 0.07521709965938336,\n",
    "\n",
    "'iterations':7, \n",
    "'task_type':'GPU',\n",
    "'gpu_ram_part':0.8,\n",
    "'l2_leaf_reg':0.2,\n",
    "'random_strength':6,\n",
    "#'loss_function':'LogLinQuantile',\n",
    "'loss_function':'RMSE',\n",
    "'random_seed':500,\n",
    "'depth':7\n",
    "}\n",
    "\n",
    "model1 = CatBoostRegressor(**params)\n",
    "model1.fit(x, y1)\n",
    "\n",
    "model2 = CatBoostRegressor(**params)\n",
    "model2.fit(x, y2)\n",
    "\n",
    "modeli = CatBoostRegressor(**params)\n",
    "modeli.fit(x, i)"
   ]
  },
  {
   "cell_type": "code",
   "execution_count": null,
   "metadata": {},
   "outputs": [],
   "source": []
  },
  {
   "cell_type": "code",
   "execution_count": null,
   "metadata": {},
   "outputs": [],
   "source": []
  },
  {
   "cell_type": "code",
   "execution_count": 31,
   "metadata": {},
   "outputs": [],
   "source": [
    "y1 = train[train.columns[17]]\n",
    "y2 = train[train.columns[18]]\n",
    "i = train[train.columns[19]]\n",
    "x = train.drop(train.columns[17:20], axis = 1)\n",
    "\n",
    "cat_features = list([2,3,4,5,7,8,9,13,14])\n",
    "# какие фичи категориальные\n",
    "\n",
    "ot1 = test[test.columns[17]]\n",
    "ot2 = test[test.columns[18]]\n",
    "ot = test[test.columns[19]]\n",
    "test = test.drop(test.columns[17:20], axis = 1)"
   ]
  },
  {
   "cell_type": "code",
   "execution_count": null,
   "metadata": {},
   "outputs": [],
   "source": []
  },
  {
   "cell_type": "code",
   "execution_count": 13,
   "metadata": {},
   "outputs": [],
   "source": [
    "params = \\\n",
    "{ \n",
    "'learning_rate': 0.07521709965938336,\n",
    "\n",
    "'iterations':7, \n",
    "'task_type':'GPU',\n",
    "'gpu_ram_part':0.8,\n",
    "'l2_leaf_reg':0.2,\n",
    "'random_strength':6,\n",
    "#'loss_function':'LogLinQuantile',\n",
    "'loss_function':'RMSE',\n",
    "'random_seed':500,\n",
    "'depth':7\n",
    "}"
   ]
  },
  {
   "cell_type": "code",
   "execution_count": null,
   "metadata": {},
   "outputs": [],
   "source": []
  },
  {
   "cell_type": "code",
   "execution_count": 14,
   "metadata": {},
   "outputs": [
    {
     "ename": "NameError",
     "evalue": "name 'cat_features' is not defined",
     "output_type": "error",
     "traceback": [
      "\u001b[1;31m---------------------------------------------------------------------------\u001b[0m",
      "\u001b[1;31mNameError\u001b[0m                                 Traceback (most recent call last)",
      "\u001b[1;32m<ipython-input-14-648c47456f5c>\u001b[0m in \u001b[0;36m<module>\u001b[1;34m\u001b[0m\n\u001b[0;32m      1\u001b[0m \u001b[0mmodel1\u001b[0m \u001b[1;33m=\u001b[0m \u001b[0mCatBoostRegressor\u001b[0m\u001b[1;33m(\u001b[0m\u001b[1;33m**\u001b[0m\u001b[0mparams\u001b[0m\u001b[1;33m)\u001b[0m\u001b[1;33m\u001b[0m\u001b[1;33m\u001b[0m\u001b[0m\n\u001b[1;32m----> 2\u001b[1;33m \u001b[0mmodel1\u001b[0m\u001b[1;33m.\u001b[0m\u001b[0mfit\u001b[0m\u001b[1;33m(\u001b[0m\u001b[0mx\u001b[0m\u001b[1;33m,\u001b[0m \u001b[0my1\u001b[0m\u001b[1;33m,\u001b[0m \u001b[0mcat_features\u001b[0m\u001b[1;33m=\u001b[0m\u001b[0mcat_features\u001b[0m\u001b[1;33m)\u001b[0m\u001b[1;33m\u001b[0m\u001b[1;33m\u001b[0m\u001b[0m\n\u001b[0m\u001b[0;32m      3\u001b[0m \u001b[1;33m\u001b[0m\u001b[0m\n\u001b[0;32m      4\u001b[0m \u001b[0mmodel2\u001b[0m \u001b[1;33m=\u001b[0m \u001b[0mCatBoostRegressor\u001b[0m\u001b[1;33m(\u001b[0m\u001b[1;33m**\u001b[0m\u001b[0mparams\u001b[0m\u001b[1;33m)\u001b[0m\u001b[1;33m\u001b[0m\u001b[1;33m\u001b[0m\u001b[0m\n\u001b[0;32m      5\u001b[0m \u001b[0mmodel2\u001b[0m\u001b[1;33m.\u001b[0m\u001b[0mfit\u001b[0m\u001b[1;33m(\u001b[0m\u001b[0mx\u001b[0m\u001b[1;33m,\u001b[0m \u001b[0my2\u001b[0m\u001b[1;33m,\u001b[0m \u001b[0mcat_features\u001b[0m\u001b[1;33m=\u001b[0m\u001b[0mcat_features\u001b[0m\u001b[1;33m)\u001b[0m\u001b[1;33m\u001b[0m\u001b[1;33m\u001b[0m\u001b[0m\n",
      "\u001b[1;31mNameError\u001b[0m: name 'cat_features' is not defined"
     ]
    }
   ],
   "source": [
    "model1 = CatBoostRegressor(**params)\n",
    "model1.fit(x, y1, cat_features=cat_features)\n",
    "\n",
    "model2 = CatBoostRegressor(**params)\n",
    "model2.fit(x, y2, cat_features=cat_features)\n",
    "\n",
    "modeli = CatBoostRegressor(**params)\n",
    "modeli.fit(x, i, cat_features=cat_features)"
   ]
  },
  {
   "cell_type": "code",
   "execution_count": null,
   "metadata": {},
   "outputs": [],
   "source": []
  },
  {
   "cell_type": "code",
   "execution_count": 13,
   "metadata": {},
   "outputs": [
    {
     "data": {
      "text/plain": [
       "array([13.48579899, 13.94377901])"
      ]
     },
     "execution_count": 13,
     "metadata": {},
     "output_type": "execute_result"
    }
   ],
   "source": [
    "model1.predict(test)\n",
    "#счет команды"
   ]
  },
  {
   "cell_type": "code",
   "execution_count": 12,
   "metadata": {},
   "outputs": [
    {
     "data": {
      "text/plain": [
       "array([12.62668368, 13.22348831])"
      ]
     },
     "execution_count": 12,
     "metadata": {},
     "output_type": "execute_result"
    }
   ],
   "source": [
    "model2.predict(test)\n",
    "#счет соперника"
   ]
  },
  {
   "cell_type": "code",
   "execution_count": 16,
   "metadata": {},
   "outputs": [
    {
     "data": {
      "text/plain": [
       "array([-0.01452184, -0.04641089])"
      ]
     },
     "execution_count": 16,
     "metadata": {},
     "output_type": "execute_result"
    }
   ],
   "source": [
    "modeli.predict(test)\n",
    "#вероятность победы"
   ]
  },
  {
   "cell_type": "code",
   "execution_count": 27,
   "metadata": {},
   "outputs": [
    {
     "data": {
      "text/plain": [
       "array([-0.06309836, -0.03703115])"
      ]
     },
     "execution_count": 27,
     "metadata": {},
     "output_type": "execute_result"
    }
   ],
   "source": [
    "modeli.predict(test)\n",
    "#вероятность победы"
   ]
  },
  {
   "cell_type": "code",
   "execution_count": 96,
   "metadata": {},
   "outputs": [
    {
     "data": {
      "text/plain": [
       "array([0.51614913, 0.55110904, 0.59290887, 0.55870319, 0.54033455,\n",
       "       0.55110904, 0.55870319, 0.54033455, 0.55870319, 0.54307035,\n",
       "       0.54420271, 0.54505697, 0.60235558, 0.53369522, 0.55439123,\n",
       "       0.53531369, 0.55886254, 0.56667737, 0.5889341 , 0.56871869,\n",
       "       0.50853123, 0.57397009, 0.54420271, 0.60050302, 0.54991893,\n",
       "       0.59010252, 0.59476144, 0.56749106, 0.54033455, 0.56957295,\n",
       "       0.51564963, 0.55110904, 0.54033455, 0.55110904, 0.59290887,\n",
       "       0.5941624 , 0.5811806 , 0.60235558, 0.57840681, 0.57860012,\n",
       "       0.54505697, 0.55179685, 0.54020598, 0.52380468, 0.52536604,\n",
       "       0.54574479, 0.53342822, 0.59010252, 0.55217537, 0.58213438,\n",
       "       0.52908601, 0.56749106, 0.53330119, 0.54505697, 0.54773502,\n",
       "       0.55179685, 0.54912242, 0.56828756, 0.54033455, 0.59290887,\n",
       "       0.55464135, 0.62134129, 0.55870319, 0.54100249, 0.59696875,\n",
       "       0.57932804, 0.53815064, 0.55179685, 0.54033455, 0.58656826,\n",
       "       0.51937891, 0.60183154, 0.5449747 , 0.54799569, 0.55558984,\n",
       "       0.5372212 , 0.55558984, 0.57902103, 0.55404007, 0.5509879 ,\n",
       "       0.54799569, 0.54386686, 0.59476144, 0.55110904, 0.59290887,\n",
       "       0.55265112, 0.61046499, 0.53342822, 0.54505697, 0.55179685,\n",
       "       0.54912242, 0.60916185, 0.58993465, 0.52987677, 0.5806189 ,\n",
       "       0.60235558, 0.54991893, 0.55110904, 0.55870319, 0.54033455])"
      ]
     },
     "execution_count": 96,
     "metadata": {},
     "output_type": "execute_result"
    }
   ],
   "source": [
    "modeli.predict(test)\n",
    "#вероятность победы"
   ]
  },
  {
   "cell_type": "code",
   "execution_count": null,
   "metadata": {},
   "outputs": [],
   "source": []
  },
  {
   "cell_type": "code",
   "execution_count": null,
   "metadata": {},
   "outputs": [],
   "source": []
  },
  {
   "cell_type": "code",
   "execution_count": 40,
   "metadata": {},
   "outputs": [
    {
     "data": {
      "text/plain": [
       "3.306766068750294"
      ]
     },
     "execution_count": 40,
     "metadata": {},
     "output_type": "execute_result"
    }
   ],
   "source": [
    "mean_absolute_error(ot1, model1.predict(test))"
   ]
  },
  {
   "cell_type": "code",
   "execution_count": 41,
   "metadata": {},
   "outputs": [
    {
     "data": {
      "text/plain": [
       "3.367192869000137"
      ]
     },
     "execution_count": 41,
     "metadata": {},
     "output_type": "execute_result"
    }
   ],
   "source": [
    "mean_absolute_error(ot2, model2.predict(test))"
   ]
  },
  {
   "cell_type": "code",
   "execution_count": 34,
   "metadata": {},
   "outputs": [
    {
     "data": {
      "text/plain": [
       "0.5566647174959042"
      ]
     },
     "execution_count": 34,
     "metadata": {},
     "output_type": "execute_result"
    }
   ],
   "source": [
    "mean_absolute_error(ot, modeli.predict(test))\n",
    "#LogLinQuantile"
   ]
  },
  {
   "cell_type": "code",
   "execution_count": 97,
   "metadata": {},
   "outputs": [
    {
     "data": {
      "text/plain": [
       "0.49798616072308505"
      ]
     },
     "execution_count": 97,
     "metadata": {},
     "output_type": "execute_result"
    }
   ],
   "source": [
    "mean_absolute_error(ot, modeli.predict(test))\n",
    "#RMSE"
   ]
  },
  {
   "cell_type": "code",
   "execution_count": null,
   "metadata": {},
   "outputs": [],
   "source": []
  },
  {
   "cell_type": "code",
   "execution_count": null,
   "metadata": {},
   "outputs": [],
   "source": []
  },
  {
   "cell_type": "code",
   "execution_count": 22,
   "metadata": {},
   "outputs": [
    {
     "name": "stdout",
     "output_type": "stream",
     "text": [
      "Train roc-auc: 0.7723597410922928\n",
      "Test roc-auc: 0.33333333333333326\n"
     ]
    },
    {
     "data": {
      "image/png": "[encoded data removed]",
      "text/plain": [
       "<Figure size 864x720 with 1 Axes>"
      ]
     },
     "metadata": {
      "needs_background": "light"
     },
     "output_type": "display_data"
    }
   ],
   "source": [
    "\n",
    "plt.figure(figsize=(12,10))\n",
    "\n",
    "print(f'Train roc-auc: {roc_auc_score(i, modeli.predict(x))}')\n",
    "print(f'Test roc-auc: {roc_auc_score(ot, modeli.predict(test))}')\n",
    "\n",
    "\n",
    "plt.plot(*roc_curve(i, modeli.predict(x))[:2], label='train roc-curve')\n",
    "plt.plot(*roc_curve(ot, modeli.predict(test))[:2], label='test roc-curve')\n",
    "\n",
    "plt.plot([0,1], [0,1], linestyle='--', color='black')\n",
    "plt.grid(True)\n",
    "plt.legend()\n",
    "plt.show()"
   ]
  },
  {
   "cell_type": "code",
   "execution_count": 23,
   "metadata": {},
   "outputs": [
    {
     "name": "stdout",
     "output_type": "stream",
     "text": [
      "Train roc-auc: 0.7723597410922928\n",
      "Test roc-auc: 0.33333333333333326\n"
     ]
    },
    {
     "data": {
      "image/png": "[encoded data removed]",
      "text/plain": [
       "<Figure size 864x720 with 1 Axes>"
      ]
     },
     "metadata": {
      "needs_background": "light"
     },
     "output_type": "display_data"
    }
   ],
   "source": [
    "plt.figure(figsize=(12,10))\n",
    "\n",
    "print(f'Train roc-auc: {roc_auc_score(i, modeli.predict(x))}')\n",
    "print(f'Test roc-auc: {roc_auc_score(ot, modeli.predict(test))}')\n",
    "\n",
    "\n",
    "plt.plot(*roc_curve(i, modeli.predict(x))[:2], label='train roc-curve')\n",
    "plt.plot(*roc_curve(ot, modeli.predict(test))[:2], label='test roc-curve')\n",
    "\n",
    "plt.plot([0,1], [0,1], linestyle='--', color='black')\n",
    "plt.grid(True)\n",
    "plt.legend()\n",
    "plt.show()"
   ]
  },
  {
   "cell_type": "code",
   "execution_count": 9,
   "metadata": {},
   "outputs": [
    {
     "name": "stderr",
     "output_type": "stream",
     "text": [
      "C:\\Users\\ALEX\\Anaconda3\\lib\\site-packages\\sklearn\\linear_model\\_logistic.py:940: ConvergenceWarning: lbfgs failed to converge (status=1):\n",
      "STOP: TOTAL NO. of ITERATIONS REACHED LIMIT.\n",
      "\n",
      "Increase the number of iterations (max_iter) or scale the data as shown in:\n",
      "    https://scikit-learn.org/stable/modules/preprocessing.html\n",
      "Please also refer to the documentation for alternative solver options:\n",
      "    https://scikit-learn.org/stable/modules/linear_model.html#logistic-regression\n",
      "  extra_warning_msg=_LOGISTIC_SOLVER_CONVERGENCE_MSG)\n"
     ]
    }
   ],
   "source": [
    "ml = LogisticRegression().fit(x, i)"
   ]
  },
  {
   "cell_type": "code",
   "execution_count": 10,
   "metadata": {},
   "outputs": [
    {
     "name": "stdout",
     "output_type": "stream",
     "text": [
      "Train roc-auc: 0.8112888398602683\n",
      "Test roc-auc: 0.4983974358974359\n"
     ]
    },
    {
     "data": {
      "image/png": "[encoded data removed]",
      "text/plain": [
       "<Figure size 864x720 with 1 Axes>"
      ]
     },
     "metadata": {
      "needs_background": "light"
     },
     "output_type": "display_data"
    }
   ],
   "source": [
    "plt.figure(figsize=(12,10))\n",
    "\n",
    "print(f'Train roc-auc: {roc_auc_score(i, ml.predict(x))}')\n",
    "print(f'Test roc-auc: {roc_auc_score(ot, ml.predict(test))}')\n",
    "\n",
    "\n",
    "plt.plot(*roc_curve(i, ml.predict(x))[:2], label='train roc-curve')\n",
    "plt.plot(*roc_curve(ot, ml.predict(test))[:2], label='test roc-curve')\n",
    "\n",
    "plt.plot([0,1], [0,1], linestyle='--', color='black')\n",
    "plt.grid(True)\n",
    "plt.legend()\n",
    "plt.show()"
   ]
  },
  {
   "cell_type": "code",
   "execution_count": 18,
   "metadata": {},
   "outputs": [
    {
     "name": "stderr",
     "output_type": "stream",
     "text": [
      "C:\\Users\\ALEX\\Anaconda3\\lib\\site-packages\\sklearn\\neural_network\\_multilayer_perceptron.py:571: ConvergenceWarning: Stochastic Optimizer: Maximum iterations (45) reached and the optimization hasn't converged yet.\n",
      "  % self.max_iter, ConvergenceWarning)\n"
     ]
    }
   ],
   "source": [
    "mlp = MLPRegressor(random_state= 3, max_iter= 45).fit(x, i)"
   ]
  },
  {
   "cell_type": "code",
   "execution_count": 19,
   "metadata": {},
   "outputs": [
    {
     "name": "stdout",
     "output_type": "stream",
     "text": [
      "Train roc-auc: 0.971917199164547\n",
      "Test roc-auc: 0.3333333333333333\n"
     ]
    },
    {
     "data": {
      "image/png": "[encoded data removed]",
      "text/plain": [
       "<Figure size 864x720 with 1 Axes>"
      ]
     },
     "metadata": {
      "needs_background": "light"
     },
     "output_type": "display_data"
    }
   ],
   "source": [
    "plt.figure(figsize=(12,10))\n",
    "\n",
    "print(f'Train roc-auc: {roc_auc_score(i, mlp.predict(x))}')\n",
    "print(f'Test roc-auc: {roc_auc_score(ot, mlp.predict(test))}')\n",
    "\n",
    "\n",
    "plt.plot(*roc_curve(i, mlp.predict(x))[:2], label='train roc-curve')\n",
    "plt.plot(*roc_curve(ot, mlp.predict(test))[:2], label='test roc-curve')\n",
    "\n",
    "plt.plot([0,1], [0,1], linestyle='--', color='black')\n",
    "plt.grid(True)\n",
    "plt.legend()\n",
    "plt.show()"
   ]
  },
  {
   "cell_type": "code",
   "execution_count": 20,
   "metadata": {},
   "outputs": [
    {
     "data": {
      "text/plain": [
       "0.6355304894532399"
      ]
     },
     "execution_count": 20,
     "metadata": {},
     "output_type": "execute_result"
    }
   ],
   "source": [
    "mean_absolute_error(ot, mlp.predict(test))\n",
    "#RMSE"
   ]
  },
  {
   "cell_type": "code",
   "execution_count": 10,
   "metadata": {},
   "outputs": [
    {
     "data": {
      "text/plain": [
       "array([ 0.817254  ,  0.31097012,  0.79929692,  0.77824375, -0.28861237,\n",
       "        0.81261175,  0.34327038,  0.15217266, -0.4828257 ,  0.51452675,\n",
       "        0.72935799,  0.3489012 ,  1.63994501,  1.02155048,  1.01542525])"
      ]
     },
     "execution_count": 10,
     "metadata": {},
     "output_type": "execute_result"
    }
   ],
   "source": [
    "mlp.predict(test)\n",
    "#вероятность победы"
   ]
  },
  {
   "cell_type": "code",
   "execution_count": null,
   "metadata": {},
   "outputs": [],
   "source": []
  },
  {
   "cell_type": "code",
   "execution_count": null,
   "metadata": {},
   "outputs": [],
   "source": []
  },
  {
   "cell_type": "code",
   "execution_count": null,
   "metadata": {},
   "outputs": [],
   "source": []
  },
  {
   "cell_type": "markdown",
   "metadata": {},
   "source": [
    "# Не учитывая дату"
   ]
  },
  {
   "cell_type": "code",
   "execution_count": 13,
   "metadata": {},
   "outputs": [],
   "source": [
    "train = train.drop(train.columns[0:2], axis = 1)\n",
    "test = test.drop(test.columns[0:2], axis = 1)\n",
    "\n",
    "y1 = train[train.columns[15]]\n",
    "y2 = train[train.columns[16]]\n",
    "i = train[train.columns[17]]\n",
    "x = train.drop(train.columns[15:18], axis = 1)\n",
    "\n",
    "cat_features = list([0,1,2,3,5,6,7,11,12])\n",
    "# какие фичи категориальные\n",
    "\n",
    "ot1 = test[test.columns[15]]\n",
    "ot2 = test[test.columns[16]]\n",
    "ot = test[test.columns[17]]\n",
    "test = test.drop(test.columns[15:18], axis = 1)"
   ]
  },
  {
   "cell_type": "code",
   "execution_count": 48,
   "metadata": {},
   "outputs": [
    {
     "data": {
      "text/plain": [
       "array([13.4170484, 13.3956374])"
      ]
     },
     "execution_count": 48,
     "metadata": {},
     "output_type": "execute_result"
    }
   ],
   "source": [
    "model1.predict(test)\n",
    "#счет команды"
   ]
  },
  {
   "cell_type": "code",
   "execution_count": 49,
   "metadata": {},
   "outputs": [
    {
     "data": {
      "text/plain": [
       "array([13.81119538, 12.43646202])"
      ]
     },
     "execution_count": 49,
     "metadata": {},
     "output_type": "execute_result"
    }
   ],
   "source": [
    "model2.predict(test)\n",
    "#счет соперника"
   ]
  },
  {
   "cell_type": "code",
   "execution_count": 50,
   "metadata": {},
   "outputs": [
    {
     "data": {
      "text/plain": [
       "array([0.37964641, 0.4233763 ])"
      ]
     },
     "execution_count": 50,
     "metadata": {},
     "output_type": "execute_result"
    }
   ],
   "source": [
    "modeli.predict(test)\n",
    "#вероятность победы"
   ]
  },
  {
   "cell_type": "code",
   "execution_count": null,
   "metadata": {},
   "outputs": [],
   "source": []
  },
  {
   "cell_type": "code",
   "execution_count": null,
   "metadata": {},
   "outputs": [],
   "source": []
  },
  {
   "cell_type": "code",
   "execution_count": null,
   "metadata": {},
   "outputs": [],
   "source": []
  },
  {
   "cell_type": "code",
   "execution_count": null,
   "metadata": {},
   "outputs": [],
   "source": []
  },
  {
   "cell_type": "code",
   "execution_count": 9,
   "metadata": {},
   "outputs": [],
   "source": [
    "y_train = train[train.columns[17:20]]\n",
    "x = train.drop(train.columns[17:20], axis = 1)"
   ]
  },
  {
   "cell_type": "code",
   "execution_count": 12,
   "metadata": {},
   "outputs": [],
   "source": [
    "grid_mlp = MLPRegressor(random_state= 2,  max_iter= 100)"
   ]
  },
  {
   "cell_type": "code",
   "execution_count": 13,
   "metadata": {
    "collapsed": true
   },
   "outputs": [
    {
     "ename": "ValueError",
     "evalue": "could not convert string to float: 'AVEZ'",
     "output_type": "error",
     "traceback": [
      "\u001b[1;31m---------------------------------------------------------------------------\u001b[0m",
      "\u001b[1;31mValueError\u001b[0m                                Traceback (most recent call last)",
      "\u001b[1;32m<timed eval>\u001b[0m in \u001b[0;36m<module>\u001b[1;34m\u001b[0m\n",
      "\u001b[1;32m~\\Anaconda3\\lib\\site-packages\\sklearn\\neural_network\\_multilayer_perceptron.py\u001b[0m in \u001b[0;36mfit\u001b[1;34m(self, X, y)\u001b[0m\n\u001b[0;32m    625\u001b[0m         \u001b[0mself\u001b[0m \u001b[1;33m:\u001b[0m \u001b[0mreturns\u001b[0m \u001b[0ma\u001b[0m \u001b[0mtrained\u001b[0m \u001b[0mMLP\u001b[0m \u001b[0mmodel\u001b[0m\u001b[1;33m.\u001b[0m\u001b[1;33m\u001b[0m\u001b[1;33m\u001b[0m\u001b[0m\n\u001b[0;32m    626\u001b[0m         \"\"\"\n\u001b[1;32m--> 627\u001b[1;33m         \u001b[1;32mreturn\u001b[0m \u001b[0mself\u001b[0m\u001b[1;33m.\u001b[0m\u001b[0m_fit\u001b[0m\u001b[1;33m(\u001b[0m\u001b[0mX\u001b[0m\u001b[1;33m,\u001b[0m \u001b[0my\u001b[0m\u001b[1;33m,\u001b[0m \u001b[0mincremental\u001b[0m\u001b[1;33m=\u001b[0m\u001b[1;32mFalse\u001b[0m\u001b[1;33m)\u001b[0m\u001b[1;33m\u001b[0m\u001b[1;33m\u001b[0m\u001b[0m\n\u001b[0m\u001b[0;32m    628\u001b[0m \u001b[1;33m\u001b[0m\u001b[0m\n\u001b[0;32m    629\u001b[0m     \u001b[1;33m@\u001b[0m\u001b[0mproperty\u001b[0m\u001b[1;33m\u001b[0m\u001b[1;33m\u001b[0m\u001b[0m\n",
      "\u001b[1;32m~\\Anaconda3\\lib\\site-packages\\sklearn\\neural_network\\_multilayer_perceptron.py\u001b[0m in \u001b[0;36m_fit\u001b[1;34m(self, X, y, incremental)\u001b[0m\n\u001b[0;32m    323\u001b[0m                              hidden_layer_sizes)\n\u001b[0;32m    324\u001b[0m \u001b[1;33m\u001b[0m\u001b[0m\n\u001b[1;32m--> 325\u001b[1;33m         \u001b[0mX\u001b[0m\u001b[1;33m,\u001b[0m \u001b[0my\u001b[0m \u001b[1;33m=\u001b[0m \u001b[0mself\u001b[0m\u001b[1;33m.\u001b[0m\u001b[0m_validate_input\u001b[0m\u001b[1;33m(\u001b[0m\u001b[0mX\u001b[0m\u001b[1;33m,\u001b[0m \u001b[0my\u001b[0m\u001b[1;33m,\u001b[0m \u001b[0mincremental\u001b[0m\u001b[1;33m)\u001b[0m\u001b[1;33m\u001b[0m\u001b[1;33m\u001b[0m\u001b[0m\n\u001b[0m\u001b[0;32m    326\u001b[0m         \u001b[0mn_samples\u001b[0m\u001b[1;33m,\u001b[0m \u001b[0mn_features\u001b[0m \u001b[1;33m=\u001b[0m \u001b[0mX\u001b[0m\u001b[1;33m.\u001b[0m\u001b[0mshape\u001b[0m\u001b[1;33m\u001b[0m\u001b[1;33m\u001b[0m\u001b[0m\n\u001b[0;32m    327\u001b[0m \u001b[1;33m\u001b[0m\u001b[0m\n",
      "\u001b[1;32m~\\Anaconda3\\lib\\site-packages\\sklearn\\neural_network\\_multilayer_perceptron.py\u001b[0m in \u001b[0;36m_validate_input\u001b[1;34m(self, X, y, incremental)\u001b[0m\n\u001b[0;32m   1338\u001b[0m     \u001b[1;32mdef\u001b[0m \u001b[0m_validate_input\u001b[0m\u001b[1;33m(\u001b[0m\u001b[0mself\u001b[0m\u001b[1;33m,\u001b[0m \u001b[0mX\u001b[0m\u001b[1;33m,\u001b[0m \u001b[0my\u001b[0m\u001b[1;33m,\u001b[0m \u001b[0mincremental\u001b[0m\u001b[1;33m)\u001b[0m\u001b[1;33m:\u001b[0m\u001b[1;33m\u001b[0m\u001b[1;33m\u001b[0m\u001b[0m\n\u001b[0;32m   1339\u001b[0m         X, y = check_X_y(X, y, accept_sparse=['csr', 'csc', 'coo'],\n\u001b[1;32m-> 1340\u001b[1;33m                          multi_output=True, y_numeric=True)\n\u001b[0m\u001b[0;32m   1341\u001b[0m         \u001b[1;32mif\u001b[0m \u001b[0my\u001b[0m\u001b[1;33m.\u001b[0m\u001b[0mndim\u001b[0m \u001b[1;33m==\u001b[0m \u001b[1;36m2\u001b[0m \u001b[1;32mand\u001b[0m \u001b[0my\u001b[0m\u001b[1;33m.\u001b[0m\u001b[0mshape\u001b[0m\u001b[1;33m[\u001b[0m\u001b[1;36m1\u001b[0m\u001b[1;33m]\u001b[0m \u001b[1;33m==\u001b[0m \u001b[1;36m1\u001b[0m\u001b[1;33m:\u001b[0m\u001b[1;33m\u001b[0m\u001b[1;33m\u001b[0m\u001b[0m\n\u001b[0;32m   1342\u001b[0m             \u001b[0my\u001b[0m \u001b[1;33m=\u001b[0m \u001b[0mcolumn_or_1d\u001b[0m\u001b[1;33m(\u001b[0m\u001b[0my\u001b[0m\u001b[1;33m,\u001b[0m \u001b[0mwarn\u001b[0m\u001b[1;33m=\u001b[0m\u001b[1;32mTrue\u001b[0m\u001b[1;33m)\u001b[0m\u001b[1;33m\u001b[0m\u001b[1;33m\u001b[0m\u001b[0m\n",
      "\u001b[1;32m~\\Anaconda3\\lib\\site-packages\\sklearn\\utils\\validation.py\u001b[0m in \u001b[0;36mcheck_X_y\u001b[1;34m(X, y, accept_sparse, accept_large_sparse, dtype, order, copy, force_all_finite, ensure_2d, allow_nd, multi_output, ensure_min_samples, ensure_min_features, y_numeric, warn_on_dtype, estimator)\u001b[0m\n\u001b[0;32m    753\u001b[0m                     \u001b[0mensure_min_features\u001b[0m\u001b[1;33m=\u001b[0m\u001b[0mensure_min_features\u001b[0m\u001b[1;33m,\u001b[0m\u001b[1;33m\u001b[0m\u001b[1;33m\u001b[0m\u001b[0m\n\u001b[0;32m    754\u001b[0m                     \u001b[0mwarn_on_dtype\u001b[0m\u001b[1;33m=\u001b[0m\u001b[0mwarn_on_dtype\u001b[0m\u001b[1;33m,\u001b[0m\u001b[1;33m\u001b[0m\u001b[1;33m\u001b[0m\u001b[0m\n\u001b[1;32m--> 755\u001b[1;33m                     estimator=estimator)\n\u001b[0m\u001b[0;32m    756\u001b[0m     \u001b[1;32mif\u001b[0m \u001b[0mmulti_output\u001b[0m\u001b[1;33m:\u001b[0m\u001b[1;33m\u001b[0m\u001b[1;33m\u001b[0m\u001b[0m\n\u001b[0;32m    757\u001b[0m         y = check_array(y, 'csr', force_all_finite=True, ensure_2d=False,\n",
      "\u001b[1;32m~\\Anaconda3\\lib\\site-packages\\sklearn\\utils\\validation.py\u001b[0m in \u001b[0;36mcheck_array\u001b[1;34m(array, accept_sparse, accept_large_sparse, dtype, order, copy, force_all_finite, ensure_2d, allow_nd, ensure_min_samples, ensure_min_features, warn_on_dtype, estimator)\u001b[0m\n\u001b[0;32m    529\u001b[0m                     \u001b[0marray\u001b[0m \u001b[1;33m=\u001b[0m \u001b[0marray\u001b[0m\u001b[1;33m.\u001b[0m\u001b[0mastype\u001b[0m\u001b[1;33m(\u001b[0m\u001b[0mdtype\u001b[0m\u001b[1;33m,\u001b[0m \u001b[0mcasting\u001b[0m\u001b[1;33m=\u001b[0m\u001b[1;34m\"unsafe\"\u001b[0m\u001b[1;33m,\u001b[0m \u001b[0mcopy\u001b[0m\u001b[1;33m=\u001b[0m\u001b[1;32mFalse\u001b[0m\u001b[1;33m)\u001b[0m\u001b[1;33m\u001b[0m\u001b[1;33m\u001b[0m\u001b[0m\n\u001b[0;32m    530\u001b[0m                 \u001b[1;32melse\u001b[0m\u001b[1;33m:\u001b[0m\u001b[1;33m\u001b[0m\u001b[1;33m\u001b[0m\u001b[0m\n\u001b[1;32m--> 531\u001b[1;33m                     \u001b[0marray\u001b[0m \u001b[1;33m=\u001b[0m \u001b[0mnp\u001b[0m\u001b[1;33m.\u001b[0m\u001b[0masarray\u001b[0m\u001b[1;33m(\u001b[0m\u001b[0marray\u001b[0m\u001b[1;33m,\u001b[0m \u001b[0morder\u001b[0m\u001b[1;33m=\u001b[0m\u001b[0morder\u001b[0m\u001b[1;33m,\u001b[0m \u001b[0mdtype\u001b[0m\u001b[1;33m=\u001b[0m\u001b[0mdtype\u001b[0m\u001b[1;33m)\u001b[0m\u001b[1;33m\u001b[0m\u001b[1;33m\u001b[0m\u001b[0m\n\u001b[0m\u001b[0;32m    532\u001b[0m             \u001b[1;32mexcept\u001b[0m \u001b[0mComplexWarning\u001b[0m\u001b[1;33m:\u001b[0m\u001b[1;33m\u001b[0m\u001b[1;33m\u001b[0m\u001b[0m\n\u001b[0;32m    533\u001b[0m                 raise ValueError(\"Complex data not supported\\n\"\n",
      "\u001b[1;32m~\\Anaconda3\\lib\\site-packages\\numpy\\core\\_asarray.py\u001b[0m in \u001b[0;36masarray\u001b[1;34m(a, dtype, order)\u001b[0m\n\u001b[0;32m     83\u001b[0m \u001b[1;33m\u001b[0m\u001b[0m\n\u001b[0;32m     84\u001b[0m     \"\"\"\n\u001b[1;32m---> 85\u001b[1;33m     \u001b[1;32mreturn\u001b[0m \u001b[0marray\u001b[0m\u001b[1;33m(\u001b[0m\u001b[0ma\u001b[0m\u001b[1;33m,\u001b[0m \u001b[0mdtype\u001b[0m\u001b[1;33m,\u001b[0m \u001b[0mcopy\u001b[0m\u001b[1;33m=\u001b[0m\u001b[1;32mFalse\u001b[0m\u001b[1;33m,\u001b[0m \u001b[0morder\u001b[0m\u001b[1;33m=\u001b[0m\u001b[0morder\u001b[0m\u001b[1;33m)\u001b[0m\u001b[1;33m\u001b[0m\u001b[1;33m\u001b[0m\u001b[0m\n\u001b[0m\u001b[0;32m     86\u001b[0m \u001b[1;33m\u001b[0m\u001b[0m\n\u001b[0;32m     87\u001b[0m \u001b[1;33m\u001b[0m\u001b[0m\n",
      "\u001b[1;31mValueError\u001b[0m: could not convert string to float: 'AVEZ'"
     ]
    }
   ],
   "source": [
    "%%time\n",
    "grid_mlp.fit(x, y_train)"
   ]
  },
  {
   "cell_type": "code",
   "execution_count": null,
   "metadata": {},
   "outputs": [],
   "source": []
  },
  {
   "cell_type": "code",
   "execution_count": null,
   "metadata": {},
   "outputs": [],
   "source": []
  },
  {
   "cell_type": "code",
   "execution_count": null,
   "metadata": {},
   "outputs": [],
   "source": []
  },
  {
   "cell_type": "code",
   "execution_count": null,
   "metadata": {},
   "outputs": [],
   "source": []
  },
  {
   "cell_type": "code",
   "execution_count": null,
   "metadata": {},
   "outputs": [],
   "source": []
  },
  {
   "cell_type": "code",
   "execution_count": null,
   "metadata": {},
   "outputs": [],
   "source": []
  },
  {
   "cell_type": "code",
   "execution_count": null,
   "metadata": {},
   "outputs": [],
   "source": []
  },
  {
   "cell_type": "code",
   "execution_count": null,
   "metadata": {},
   "outputs": [],
   "source": []
  },
  {
   "cell_type": "code",
   "execution_count": null,
   "metadata": {},
   "outputs": [],
   "source": []
  },
  {
   "cell_type": "code",
   "execution_count": null,
   "metadata": {},
   "outputs": [],
   "source": []
  }
 ],
 "metadata": {
  "kernelspec": {
   "display_name": "Python 3",
   "language": "python",
   "name": "python3"
  },
  "language_info": {
   "codemirror_mode": {
    "name": "ipython",
    "version": 3
   },
   "file_extension": ".py",
   "mimetype": "text/x-python",
   "name": "python",
   "nbconvert_exporter": "python",
   "pygments_lexer": "ipython3",
   "version": "3.7.4"
  }
 },
 "nbformat": 4,
 "nbformat_minor": 2
}
